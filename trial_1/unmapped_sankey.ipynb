{
 "cells": [
  {
   "cell_type": "markdown",
   "metadata": {},
   "source": [
    "### NOTES\n",
    "\n",
    "##### .json for skeletal structure imported in cell 1: \n",
    "crime_1 for years prior to 14, crime_mod has the basic skeleton to include telangana.\n",
    "##### Changes to be made:\n",
    "In cell 3, change the \"register underscore ##\" to reflect the year of the csv (last update is 2014)\n",
    "In cell 6, change the \"crime underscore ##\" to reflect the corresponding year\n",
    "\n",
    "Party!"
   ]
  },
  {
   "cell_type": "code",
   "execution_count": 1,
   "metadata": {
    "collapsed": false
   },
   "outputs": [],
   "source": [
    "import pandas as pd, numpy as np, json, csv\n",
    "json_data=open('crime_mod.json').read()\n",
    "data = json.loads(json_data)"
   ]
  },
  {
   "cell_type": "code",
   "execution_count": 2,
   "metadata": {
    "collapsed": false
   },
   "outputs": [
    {
     "name": "stdout",
     "output_type": "stream",
     "text": [
      "108\n"
     ]
    }
   ],
   "source": [
    "print(len(data['links']))"
   ]
  },
  {
   "cell_type": "code",
   "execution_count": 3,
   "metadata": {
    "collapsed": false
   },
   "outputs": [],
   "source": [
    "regc = []\n",
    "conc = []\n",
    "acqc = []\n",
    "reg = []\n",
    "con = []\n",
    "acq = []\n",
    "# creating list with csv values, register_10,_11,_12,_13,_14\n",
    "with open('register_14.csv', newline='') as f:\n",
    "    reader = csv.reader(f)\n",
    "    for i in reader:\n",
    "        regc.append(i[0])\n",
    "        conc.append(i[1])\n",
    "        acqc.append(i[2])\n",
    "# converting to numeric values\n",
    "for i in regc:\n",
    "    reg.append(int(float(i)))\n",
    "for i in conc:\n",
    "    con.append(int(float(i)))\n",
    "for i in acqc:\n",
    "    acq.append(int(float(i)))   "
   ]
  },
  {
   "cell_type": "code",
   "execution_count": 4,
   "metadata": {
    "collapsed": false
   },
   "outputs": [
    {
     "name": "stdout",
     "output_type": "stream",
     "text": [
      "[{'source': 0, 'target': 1, 'value': 43067}, {'source': 1, 'target': 2, 'value': 367}, {'source': 1, 'target': 3, 'value': 42700}, {'source': 0, 'target': 4, 'value': 1083}, {'source': 4, 'target': 2, 'value': 5}, {'source': 4, 'target': 3, 'value': 1078}, {'source': 0, 'target': 5, 'value': 49262}, {'source': 5, 'target': 2, 'value': 667}, {'source': 5, 'target': 3, 'value': 48595}, {'source': 0, 'target': 6, 'value': 38427}, {'source': 6, 'target': 2, 'value': 339}, {'source': 6, 'target': 3, 'value': 38088}, {'source': 0, 'target': 7, 'value': 18978}, {'source': 7, 'target': 2, 'value': 1100}, {'source': 7, 'target': 3, 'value': 17878}, {'source': 0, 'target': 8, 'value': 1520}, {'source': 8, 'target': 2, 'value': 3}, {'source': 8, 'target': 3, 'value': 1517}, {'source': 0, 'target': 9, 'value': 27113}, {'source': 9, 'target': 2, 'value': 81}, {'source': 9, 'target': 3, 'value': 27032}, {'source': 0, 'target': 10, 'value': 24051}, {'source': 10, 'target': 2, 'value': 317}, {'source': 10, 'target': 3, 'value': 23734}, {'source': 0, 'target': 11, 'value': 4430}, {'source': 11, 'target': 2, 'value': 4}, {'source': 11, 'target': 3, 'value': 4426}, {'source': 0, 'target': 12, 'value': 9776}, {'source': 12, 'target': 2, 'value': 87}, {'source': 12, 'target': 3, 'value': 9689}, {'source': 0, 'target': 13, 'value': 15398}, {'source': 13, 'target': 2, 'value': 594}, {'source': 13, 'target': 3, 'value': 14804}, {'source': 0, 'target': 14, 'value': 37754}, {'source': 14, 'target': 2, 'value': 174}, {'source': 14, 'target': 3, 'value': 37580}, {'source': 0, 'target': 15, 'value': 30312}, {'source': 15, 'target': 2, 'value': 178}, {'source': 15, 'target': 3, 'value': 30134}, {'source': 0, 'target': 16, 'value': 83249}, {'source': 16, 'target': 2, 'value': 3521}, {'source': 16, 'target': 3, 'value': 79728}, {'source': 0, 'target': 17, 'value': 74497}, {'source': 17, 'target': 2, 'value': 302}, {'source': 17, 'target': 3, 'value': 74195}, {'source': 0, 'target': 18, 'value': 1043}, {'source': 18, 'target': 2, 'value': 4}, {'source': 18, 'target': 3, 'value': 1039}, {'source': 0, 'target': 19, 'value': 1212}, {'source': 19, 'target': 2, 'value': 7}, {'source': 19, 'target': 3, 'value': 1205}, {'source': 0, 'target': 20, 'value': 885}, {'source': 20, 'target': 2, 'value': 118}, {'source': 20, 'target': 3, 'value': 767}, {'source': 0, 'target': 21, 'value': 225}, {'source': 21, 'target': 2, 'value': 32}, {'source': 21, 'target': 3, 'value': 193}, {'source': 0, 'target': 22, 'value': 41558}, {'source': 22, 'target': 2, 'value': 42}, {'source': 22, 'target': 3, 'value': 41516}, {'source': 0, 'target': 23, 'value': 15199}, {'source': 23, 'target': 2, 'value': 564}, {'source': 23, 'target': 3, 'value': 14635}, {'source': 0, 'target': 24, 'value': 80336}, {'source': 24, 'target': 2, 'value': 888}, {'source': 24, 'target': 3, 'value': 79448}, {'source': 0, 'target': 25, 'value': 363}, {'source': 25, 'target': 2, 'value': 14}, {'source': 25, 'target': 3, 'value': 349}, {'source': 0, 'target': 26, 'value': 16864}, {'source': 26, 'target': 2, 'value': 777}, {'source': 26, 'target': 3, 'value': 16087}, {'source': 0, 'target': 27, 'value': 35463}, {'source': 27, 'target': 2, 'value': 185}, {'source': 27, 'target': 3, 'value': 35278}, {'source': 0, 'target': 28, 'value': 4313}, {'source': 28, 'target': 2, 'value': 50}, {'source': 28, 'target': 3, 'value': 4263}, {'source': 0, 'target': 29, 'value': 103165}, {'source': 29, 'target': 2, 'value': 32}, {'source': 29, 'target': 3, 'value': 103133}, {'source': 0, 'target': 30, 'value': 3971}, {'source': 30, 'target': 2, 'value': 80}, {'source': 30, 'target': 3, 'value': 3891}, {'source': 0, 'target': 31, 'value': 90799}, {'source': 31, 'target': 2, 'value': 445}, {'source': 31, 'target': 3, 'value': 90354}, {'source': 0, 'target': 32, 'value': 358}, {'source': 32, 'target': 2, 'value': 3}, {'source': 32, 'target': 3, 'value': 355}, {'source': 0, 'target': 33, 'value': 1204}, {'source': 33, 'target': 2, 'value': 30}, {'source': 33, 'target': 3, 'value': 1174}, {'source': 0, 'target': 34, 'value': 62}, {'source': 34, 'target': 2, 'value': 0}, {'source': 34, 'target': 3, 'value': 62}, {'source': 0, 'target': 35, 'value': 46}, {'source': 35, 'target': 2, 'value': 0}, {'source': 35, 'target': 3, 'value': 46}, {'source': 0, 'target': 36, 'value': 44447}, {'source': 36, 'target': 2, 'value': 429}, {'source': 36, 'target': 3, 'value': 44018}, {'source': 0, 'target': 37, 'value': 13}, {'source': 37, 'target': 2, 'value': 0}, {'source': 37, 'target': 3, 'value': 13}, {'source': 0, 'target': 38, 'value': 222}, {'source': 38, 'target': 2, 'value': 0}, {'source': 38, 'target': 3, 'value': 222}]\n"
     ]
    }
   ],
   "source": [
    "i = 0\n",
    "k = 0\n",
    "l = 0\n",
    "m = 0\n",
    "while i < len(data['links']):\n",
    "    if data['links'][i]['source']==0:\n",
    "        data['links'][i]['value'] = reg[k]\n",
    "        i = i + 1\n",
    "        k = k + 1\n",
    "    elif data['links'][i]['target']==2:\n",
    "        data['links'][i]['value'] = con[l]\n",
    "        i = i + 1\n",
    "        l = l + 1\n",
    "    elif data['links'][i]['target']==3:\n",
    "        data['links'][i]['value'] = acq[m]\n",
    "        i = i + 1\n",
    "        m = m + 1        \n",
    "    else:\n",
    "        i = i + 1\n",
    "print(data['links'])"
   ]
  },
  {
   "cell_type": "code",
   "execution_count": 5,
   "metadata": {
    "collapsed": false
   },
   "outputs": [
    {
     "name": "stdout",
     "output_type": "stream",
     "text": [
      "{'source': 0, 'target': 1, 'value': 43067}\n",
      "{'source': 1, 'target': 2, 'value': 367}\n",
      "{'source': 1, 'target': 3, 'value': 42700}\n",
      "{'source': 0, 'target': 4, 'value': 1083}\n",
      "{'source': 4, 'target': 2, 'value': 5}\n",
      "{'source': 4, 'target': 3, 'value': 1078}\n",
      "{'source': 0, 'target': 5, 'value': 49262}\n",
      "{'source': 5, 'target': 2, 'value': 667}\n",
      "{'source': 5, 'target': 3, 'value': 48595}\n",
      "{'source': 0, 'target': 6, 'value': 38427}\n",
      "{'source': 6, 'target': 2, 'value': 339}\n",
      "{'source': 6, 'target': 3, 'value': 38088}\n",
      "{'source': 0, 'target': 7, 'value': 18978}\n",
      "{'source': 7, 'target': 2, 'value': 1100}\n",
      "{'source': 7, 'target': 3, 'value': 17878}\n",
      "{'source': 0, 'target': 8, 'value': 1520}\n",
      "{'source': 8, 'target': 2, 'value': 3}\n",
      "{'source': 8, 'target': 3, 'value': 1517}\n",
      "{'source': 0, 'target': 9, 'value': 27113}\n",
      "{'source': 9, 'target': 2, 'value': 81}\n",
      "{'source': 9, 'target': 3, 'value': 27032}\n",
      "{'source': 0, 'target': 10, 'value': 24051}\n",
      "{'source': 10, 'target': 2, 'value': 317}\n",
      "{'source': 10, 'target': 3, 'value': 23734}\n",
      "{'source': 0, 'target': 11, 'value': 4430}\n",
      "{'source': 11, 'target': 2, 'value': 4}\n",
      "{'source': 11, 'target': 3, 'value': 4426}\n",
      "{'source': 0, 'target': 12, 'value': 9776}\n",
      "{'source': 12, 'target': 2, 'value': 87}\n",
      "{'source': 12, 'target': 3, 'value': 9689}\n",
      "{'source': 0, 'target': 13, 'value': 15398}\n",
      "{'source': 13, 'target': 2, 'value': 594}\n",
      "{'source': 13, 'target': 3, 'value': 14804}\n",
      "{'source': 0, 'target': 14, 'value': 37754}\n",
      "{'source': 14, 'target': 2, 'value': 174}\n",
      "{'source': 14, 'target': 3, 'value': 37580}\n",
      "{'source': 0, 'target': 15, 'value': 30312}\n",
      "{'source': 15, 'target': 2, 'value': 178}\n",
      "{'source': 15, 'target': 3, 'value': 30134}\n",
      "{'source': 0, 'target': 16, 'value': 83249}\n",
      "{'source': 16, 'target': 2, 'value': 3521}\n",
      "{'source': 16, 'target': 3, 'value': 79728}\n",
      "{'source': 0, 'target': 17, 'value': 74497}\n",
      "{'source': 17, 'target': 2, 'value': 302}\n",
      "{'source': 17, 'target': 3, 'value': 74195}\n",
      "{'source': 0, 'target': 18, 'value': 1043}\n",
      "{'source': 18, 'target': 2, 'value': 4}\n",
      "{'source': 18, 'target': 3, 'value': 1039}\n",
      "{'source': 0, 'target': 19, 'value': 1212}\n",
      "{'source': 19, 'target': 2, 'value': 7}\n",
      "{'source': 19, 'target': 3, 'value': 1205}\n",
      "{'source': 0, 'target': 20, 'value': 885}\n",
      "{'source': 20, 'target': 2, 'value': 118}\n",
      "{'source': 20, 'target': 3, 'value': 767}\n",
      "{'source': 0, 'target': 21, 'value': 225}\n",
      "{'source': 21, 'target': 2, 'value': 32}\n",
      "{'source': 21, 'target': 3, 'value': 193}\n",
      "{'source': 0, 'target': 22, 'value': 41558}\n",
      "{'source': 22, 'target': 2, 'value': 42}\n",
      "{'source': 22, 'target': 3, 'value': 41516}\n",
      "{'source': 0, 'target': 23, 'value': 15199}\n",
      "{'source': 23, 'target': 2, 'value': 564}\n",
      "{'source': 23, 'target': 3, 'value': 14635}\n",
      "{'source': 0, 'target': 24, 'value': 80336}\n",
      "{'source': 24, 'target': 2, 'value': 888}\n",
      "{'source': 24, 'target': 3, 'value': 79448}\n",
      "{'source': 0, 'target': 25, 'value': 363}\n",
      "{'source': 25, 'target': 2, 'value': 14}\n",
      "{'source': 25, 'target': 3, 'value': 349}\n",
      "{'source': 0, 'target': 26, 'value': 16864}\n",
      "{'source': 26, 'target': 2, 'value': 777}\n",
      "{'source': 26, 'target': 3, 'value': 16087}\n",
      "{'source': 0, 'target': 27, 'value': 35463}\n",
      "{'source': 27, 'target': 2, 'value': 185}\n",
      "{'source': 27, 'target': 3, 'value': 35278}\n",
      "{'source': 0, 'target': 28, 'value': 4313}\n",
      "{'source': 28, 'target': 2, 'value': 50}\n",
      "{'source': 28, 'target': 3, 'value': 4263}\n",
      "{'source': 0, 'target': 29, 'value': 103165}\n",
      "{'source': 29, 'target': 2, 'value': 32}\n",
      "{'source': 29, 'target': 3, 'value': 103133}\n",
      "{'source': 0, 'target': 30, 'value': 3971}\n",
      "{'source': 30, 'target': 2, 'value': 80}\n",
      "{'source': 30, 'target': 3, 'value': 3891}\n",
      "{'source': 0, 'target': 31, 'value': 90799}\n",
      "{'source': 31, 'target': 2, 'value': 445}\n",
      "{'source': 31, 'target': 3, 'value': 90354}\n",
      "{'source': 0, 'target': 32, 'value': 358}\n",
      "{'source': 32, 'target': 2, 'value': 3}\n",
      "{'source': 32, 'target': 3, 'value': 355}\n",
      "{'source': 0, 'target': 33, 'value': 1204}\n",
      "{'source': 33, 'target': 2, 'value': 30}\n",
      "{'source': 33, 'target': 3, 'value': 1174}\n",
      "{'source': 0, 'target': 34, 'value': 62}\n",
      "{'source': 34, 'target': 2, 'value': 0}\n",
      "{'source': 34, 'target': 3, 'value': 62}\n",
      "{'source': 0, 'target': 35, 'value': 46}\n",
      "{'source': 35, 'target': 2, 'value': 0}\n",
      "{'source': 35, 'target': 3, 'value': 46}\n",
      "{'source': 0, 'target': 36, 'value': 44447}\n",
      "{'source': 36, 'target': 2, 'value': 429}\n",
      "{'source': 36, 'target': 3, 'value': 44018}\n",
      "{'source': 0, 'target': 37, 'value': 13}\n",
      "{'source': 37, 'target': 2, 'value': 0}\n",
      "{'source': 37, 'target': 3, 'value': 13}\n",
      "{'source': 0, 'target': 38, 'value': 222}\n",
      "{'source': 38, 'target': 2, 'value': 0}\n",
      "{'source': 38, 'target': 3, 'value': 222}\n"
     ]
    }
   ],
   "source": [
    "i = 0\n",
    "k = 0\n",
    "l = 0\n",
    "m = 0\n",
    "while i < len(data['links']):\n",
    "    if data['links'][i]['source']==0:\n",
    "        print(data['links'][i])\n",
    "        #data['links'][i]['value'] = reg[k]\n",
    "        i = i + 1\n",
    "        #k = k + 1\n",
    "    elif data['links'][i]['target']==2:\n",
    "        #data['links'][i]['value'] = con[l]\n",
    "        print(data['links'][i])\n",
    "        i = i + 1\n",
    "        #l = l + 1\n",
    "    elif data['links'][i]['target']==3:\n",
    "        #data['links'][i]['value'] = acq[m]\n",
    "        print(data['links'][i])\n",
    "        i = i + 1\n",
    "        #m = m + 1        \n",
    "    else:\n",
    "        i = i + 1"
   ]
  },
  {
   "cell_type": "code",
   "execution_count": 6,
   "metadata": {
    "collapsed": true
   },
   "outputs": [],
   "source": [
    "#file names _10,_11,_12,_!3,_14\n",
    "with open('crime_14.json', 'w') as outfile:\n",
    "    json.dump(data, outfile)"
   ]
  },
  {
   "cell_type": "code",
   "execution_count": null,
   "metadata": {
    "collapsed": true
   },
   "outputs": [],
   "source": []
  }
 ],
 "metadata": {
  "kernelspec": {
   "display_name": "Python [Root]",
   "language": "python",
   "name": "Python [Root]"
  },
  "language_info": {
   "codemirror_mode": {
    "name": "ipython",
    "version": 3
   },
   "file_extension": ".py",
   "mimetype": "text/x-python",
   "name": "python",
   "nbconvert_exporter": "python",
   "pygments_lexer": "ipython3",
   "version": "3.5.2"
  }
 },
 "nbformat": 4,
 "nbformat_minor": 0
}
