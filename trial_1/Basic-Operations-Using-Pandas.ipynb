{
 "cells": [
  {
   "cell_type": "markdown",
   "metadata": {},
   "source": [
    "# More Basics of Pandas"
   ]
  },
  {
   "cell_type": "markdown",
   "metadata": {},
   "source": [
    "Last session we introduced Pandas quickly. Now we review the basics of using Pandas, with a more interactive workflow to solidify understanding and facility with this powerful Python toolkit."
   ]
  },
  {
   "cell_type": "markdown",
   "metadata": {},
   "source": [
    "## Reviewing Pandas Basics"
   ]
  },
  {
   "cell_type": "code",
   "execution_count": 1,
   "metadata": {
    "collapsed": false
   },
   "outputs": [],
   "source": [
    "from pandas import DataFrame\n",
    "import pandas as pd"
   ]
  },
  {
   "cell_type": "code",
   "execution_count": 2,
   "metadata": {
    "collapsed": false
   },
   "outputs": [],
   "source": [
    "import pandas as pd\n",
    "df = pd.read_csv('ca_tracts_pop_cleaned.csv')"
   ]
  },
  {
   "cell_type": "markdown",
   "metadata": {},
   "source": [
    "### Basics of indexing in Pandas\n",
    "\n",
    "The first use of indexing is to use a slice, just like we have done with other Python objects. Below we slice the first 5 index values of the first dimension of the dataframe."
   ]
  },
  {
   "cell_type": "code",
   "execution_count": 3,
   "metadata": {
    "collapsed": false
   },
   "outputs": [
    {
     "data": {
      "text/html": [
       "<div>\n",
       "<table border=\"1\" class=\"dataframe\">\n",
       "  <thead>\n",
       "    <tr style=\"text-align: right;\">\n",
       "      <th></th>\n",
       "      <th>POPGROUP</th>\n",
       "      <th>label</th>\n",
       "      <th>GEOIDLONG</th>\n",
       "      <th>GEOID</th>\n",
       "      <th>geodisplay</th>\n",
       "      <th>Population</th>\n",
       "    </tr>\n",
       "  </thead>\n",
       "  <tbody>\n",
       "    <tr>\n",
       "      <th>0</th>\n",
       "      <td>1</td>\n",
       "      <td>Total population</td>\n",
       "      <td>1400000US06001400100</td>\n",
       "      <td>6001400100</td>\n",
       "      <td>Census Tract 4001, Alameda County, California</td>\n",
       "      <td>2937</td>\n",
       "    </tr>\n",
       "    <tr>\n",
       "      <th>1</th>\n",
       "      <td>1</td>\n",
       "      <td>Total population</td>\n",
       "      <td>1400000US06001400200</td>\n",
       "      <td>6001400200</td>\n",
       "      <td>Census Tract 4002, Alameda County, California</td>\n",
       "      <td>1974</td>\n",
       "    </tr>\n",
       "    <tr>\n",
       "      <th>2</th>\n",
       "      <td>1</td>\n",
       "      <td>Total population</td>\n",
       "      <td>1400000US06001400300</td>\n",
       "      <td>6001400300</td>\n",
       "      <td>Census Tract 4003, Alameda County, California</td>\n",
       "      <td>4865</td>\n",
       "    </tr>\n",
       "    <tr>\n",
       "      <th>3</th>\n",
       "      <td>1</td>\n",
       "      <td>Total population</td>\n",
       "      <td>1400000US06001400400</td>\n",
       "      <td>6001400400</td>\n",
       "      <td>Census Tract 4004, Alameda County, California</td>\n",
       "      <td>3703</td>\n",
       "    </tr>\n",
       "    <tr>\n",
       "      <th>4</th>\n",
       "      <td>1</td>\n",
       "      <td>Total population</td>\n",
       "      <td>1400000US06001400500</td>\n",
       "      <td>6001400500</td>\n",
       "      <td>Census Tract 4005, Alameda County, California</td>\n",
       "      <td>3517</td>\n",
       "    </tr>\n",
       "  </tbody>\n",
       "</table>\n",
       "</div>"
      ],
      "text/plain": [
       "   POPGROUP             label             GEOIDLONG       GEOID  \\\n",
       "0         1  Total population  1400000US06001400100  6001400100   \n",
       "1         1  Total population  1400000US06001400200  6001400200   \n",
       "2         1  Total population  1400000US06001400300  6001400300   \n",
       "3         1  Total population  1400000US06001400400  6001400400   \n",
       "4         1  Total population  1400000US06001400500  6001400500   \n",
       "\n",
       "                                      geodisplay  Population  \n",
       "0  Census Tract 4001, Alameda County, California        2937  \n",
       "1  Census Tract 4002, Alameda County, California        1974  \n",
       "2  Census Tract 4003, Alameda County, California        4865  \n",
       "3  Census Tract 4004, Alameda County, California        3703  \n",
       "4  Census Tract 4005, Alameda County, California        3517  "
      ]
     },
     "execution_count": 3,
     "metadata": {},
     "output_type": "execute_result"
    }
   ],
   "source": [
    "df[:5]"
   ]
  },
  {
   "cell_type": "markdown",
   "metadata": {},
   "source": [
    "The first indexing method is equivalent to usinf the iloc indexing method, which uses the integer based indexing, purely based on the location of the index."
   ]
  },
  {
   "cell_type": "code",
   "execution_count": 4,
   "metadata": {
    "collapsed": false
   },
   "outputs": [
    {
     "data": {
      "text/html": [
       "<div>\n",
       "<table border=\"1\" class=\"dataframe\">\n",
       "  <thead>\n",
       "    <tr style=\"text-align: right;\">\n",
       "      <th></th>\n",
       "      <th>POPGROUP</th>\n",
       "      <th>label</th>\n",
       "      <th>GEOIDLONG</th>\n",
       "      <th>GEOID</th>\n",
       "      <th>geodisplay</th>\n",
       "      <th>Population</th>\n",
       "    </tr>\n",
       "  </thead>\n",
       "  <tbody>\n",
       "    <tr>\n",
       "      <th>0</th>\n",
       "      <td>1</td>\n",
       "      <td>Total population</td>\n",
       "      <td>1400000US06001400100</td>\n",
       "      <td>6001400100</td>\n",
       "      <td>Census Tract 4001, Alameda County, California</td>\n",
       "      <td>2937</td>\n",
       "    </tr>\n",
       "    <tr>\n",
       "      <th>1</th>\n",
       "      <td>1</td>\n",
       "      <td>Total population</td>\n",
       "      <td>1400000US06001400200</td>\n",
       "      <td>6001400200</td>\n",
       "      <td>Census Tract 4002, Alameda County, California</td>\n",
       "      <td>1974</td>\n",
       "    </tr>\n",
       "    <tr>\n",
       "      <th>2</th>\n",
       "      <td>1</td>\n",
       "      <td>Total population</td>\n",
       "      <td>1400000US06001400300</td>\n",
       "      <td>6001400300</td>\n",
       "      <td>Census Tract 4003, Alameda County, California</td>\n",
       "      <td>4865</td>\n",
       "    </tr>\n",
       "    <tr>\n",
       "      <th>3</th>\n",
       "      <td>1</td>\n",
       "      <td>Total population</td>\n",
       "      <td>1400000US06001400400</td>\n",
       "      <td>6001400400</td>\n",
       "      <td>Census Tract 4004, Alameda County, California</td>\n",
       "      <td>3703</td>\n",
       "    </tr>\n",
       "    <tr>\n",
       "      <th>4</th>\n",
       "      <td>1</td>\n",
       "      <td>Total population</td>\n",
       "      <td>1400000US06001400500</td>\n",
       "      <td>6001400500</td>\n",
       "      <td>Census Tract 4005, Alameda County, California</td>\n",
       "      <td>3517</td>\n",
       "    </tr>\n",
       "  </tbody>\n",
       "</table>\n",
       "</div>"
      ],
      "text/plain": [
       "   POPGROUP             label             GEOIDLONG       GEOID  \\\n",
       "0         1  Total population  1400000US06001400100  6001400100   \n",
       "1         1  Total population  1400000US06001400200  6001400200   \n",
       "2         1  Total population  1400000US06001400300  6001400300   \n",
       "3         1  Total population  1400000US06001400400  6001400400   \n",
       "4         1  Total population  1400000US06001400500  6001400500   \n",
       "\n",
       "                                      geodisplay  Population  \n",
       "0  Census Tract 4001, Alameda County, California        2937  \n",
       "1  Census Tract 4002, Alameda County, California        1974  \n",
       "2  Census Tract 4003, Alameda County, California        4865  \n",
       "3  Census Tract 4004, Alameda County, California        3703  \n",
       "4  Census Tract 4005, Alameda County, California        3517  "
      ]
     },
     "execution_count": 4,
     "metadata": {},
     "output_type": "execute_result"
    }
   ],
   "source": [
    "df.iloc[:5]"
   ]
  },
  {
   "cell_type": "markdown",
   "metadata": {},
   "source": [
    "A second way to index is using loc, which uses the labels of the index. Note that this approach includes the second value in the index range, whereas iloc does not."
   ]
  },
  {
   "cell_type": "code",
   "execution_count": 5,
   "metadata": {
    "collapsed": false
   },
   "outputs": [
    {
     "data": {
      "text/html": [
       "<div>\n",
       "<table border=\"1\" class=\"dataframe\">\n",
       "  <thead>\n",
       "    <tr style=\"text-align: right;\">\n",
       "      <th></th>\n",
       "      <th>POPGROUP</th>\n",
       "      <th>label</th>\n",
       "      <th>GEOIDLONG</th>\n",
       "      <th>GEOID</th>\n",
       "      <th>geodisplay</th>\n",
       "      <th>Population</th>\n",
       "    </tr>\n",
       "  </thead>\n",
       "  <tbody>\n",
       "    <tr>\n",
       "      <th>0</th>\n",
       "      <td>1</td>\n",
       "      <td>Total population</td>\n",
       "      <td>1400000US06001400100</td>\n",
       "      <td>6001400100</td>\n",
       "      <td>Census Tract 4001, Alameda County, California</td>\n",
       "      <td>2937</td>\n",
       "    </tr>\n",
       "    <tr>\n",
       "      <th>1</th>\n",
       "      <td>1</td>\n",
       "      <td>Total population</td>\n",
       "      <td>1400000US06001400200</td>\n",
       "      <td>6001400200</td>\n",
       "      <td>Census Tract 4002, Alameda County, California</td>\n",
       "      <td>1974</td>\n",
       "    </tr>\n",
       "    <tr>\n",
       "      <th>2</th>\n",
       "      <td>1</td>\n",
       "      <td>Total population</td>\n",
       "      <td>1400000US06001400300</td>\n",
       "      <td>6001400300</td>\n",
       "      <td>Census Tract 4003, Alameda County, California</td>\n",
       "      <td>4865</td>\n",
       "    </tr>\n",
       "    <tr>\n",
       "      <th>3</th>\n",
       "      <td>1</td>\n",
       "      <td>Total population</td>\n",
       "      <td>1400000US06001400400</td>\n",
       "      <td>6001400400</td>\n",
       "      <td>Census Tract 4004, Alameda County, California</td>\n",
       "      <td>3703</td>\n",
       "    </tr>\n",
       "    <tr>\n",
       "      <th>4</th>\n",
       "      <td>1</td>\n",
       "      <td>Total population</td>\n",
       "      <td>1400000US06001400500</td>\n",
       "      <td>6001400500</td>\n",
       "      <td>Census Tract 4005, Alameda County, California</td>\n",
       "      <td>3517</td>\n",
       "    </tr>\n",
       "    <tr>\n",
       "      <th>5</th>\n",
       "      <td>1</td>\n",
       "      <td>Total population</td>\n",
       "      <td>1400000US06001400600</td>\n",
       "      <td>6001400600</td>\n",
       "      <td>Census Tract 4006, Alameda County, California</td>\n",
       "      <td>1571</td>\n",
       "    </tr>\n",
       "  </tbody>\n",
       "</table>\n",
       "</div>"
      ],
      "text/plain": [
       "   POPGROUP             label             GEOIDLONG       GEOID  \\\n",
       "0         1  Total population  1400000US06001400100  6001400100   \n",
       "1         1  Total population  1400000US06001400200  6001400200   \n",
       "2         1  Total population  1400000US06001400300  6001400300   \n",
       "3         1  Total population  1400000US06001400400  6001400400   \n",
       "4         1  Total population  1400000US06001400500  6001400500   \n",
       "5         1  Total population  1400000US06001400600  6001400600   \n",
       "\n",
       "                                      geodisplay  Population  \n",
       "0  Census Tract 4001, Alameda County, California        2937  \n",
       "1  Census Tract 4002, Alameda County, California        1974  \n",
       "2  Census Tract 4003, Alameda County, California        4865  \n",
       "3  Census Tract 4004, Alameda County, California        3703  \n",
       "4  Census Tract 4005, Alameda County, California        3517  \n",
       "5  Census Tract 4006, Alameda County, California        1571  "
      ]
     },
     "execution_count": 5,
     "metadata": {},
     "output_type": "execute_result"
    }
   ],
   "source": [
    "df.loc[:5]"
   ]
  },
  {
   "cell_type": "markdown",
   "metadata": {},
   "source": [
    "Note that indexing can work for both rows and colums"
   ]
  },
  {
   "cell_type": "code",
   "execution_count": 6,
   "metadata": {
    "collapsed": false
   },
   "outputs": [
    {
     "data": {
      "text/html": [
       "<div>\n",
       "<table border=\"1\" class=\"dataframe\">\n",
       "  <thead>\n",
       "    <tr style=\"text-align: right;\">\n",
       "      <th></th>\n",
       "      <th>POPGROUP</th>\n",
       "      <th>label</th>\n",
       "      <th>GEOIDLONG</th>\n",
       "      <th>GEOID</th>\n",
       "    </tr>\n",
       "  </thead>\n",
       "  <tbody>\n",
       "    <tr>\n",
       "      <th>0</th>\n",
       "      <td>1</td>\n",
       "      <td>Total population</td>\n",
       "      <td>1400000US06001400100</td>\n",
       "      <td>6001400100</td>\n",
       "    </tr>\n",
       "    <tr>\n",
       "      <th>1</th>\n",
       "      <td>1</td>\n",
       "      <td>Total population</td>\n",
       "      <td>1400000US06001400200</td>\n",
       "      <td>6001400200</td>\n",
       "    </tr>\n",
       "    <tr>\n",
       "      <th>2</th>\n",
       "      <td>1</td>\n",
       "      <td>Total population</td>\n",
       "      <td>1400000US06001400300</td>\n",
       "      <td>6001400300</td>\n",
       "    </tr>\n",
       "    <tr>\n",
       "      <th>3</th>\n",
       "      <td>1</td>\n",
       "      <td>Total population</td>\n",
       "      <td>1400000US06001400400</td>\n",
       "      <td>6001400400</td>\n",
       "    </tr>\n",
       "    <tr>\n",
       "      <th>4</th>\n",
       "      <td>1</td>\n",
       "      <td>Total population</td>\n",
       "      <td>1400000US06001400500</td>\n",
       "      <td>6001400500</td>\n",
       "    </tr>\n",
       "    <tr>\n",
       "      <th>5</th>\n",
       "      <td>1</td>\n",
       "      <td>Total population</td>\n",
       "      <td>1400000US06001400600</td>\n",
       "      <td>6001400600</td>\n",
       "    </tr>\n",
       "  </tbody>\n",
       "</table>\n",
       "</div>"
      ],
      "text/plain": [
       "   POPGROUP             label             GEOIDLONG       GEOID\n",
       "0         1  Total population  1400000US06001400100  6001400100\n",
       "1         1  Total population  1400000US06001400200  6001400200\n",
       "2         1  Total population  1400000US06001400300  6001400300\n",
       "3         1  Total population  1400000US06001400400  6001400400\n",
       "4         1  Total population  1400000US06001400500  6001400500\n",
       "5         1  Total population  1400000US06001400600  6001400600"
      ]
     },
     "execution_count": 6,
     "metadata": {},
     "output_type": "execute_result"
    }
   ],
   "source": [
    "df.loc[:5, : 'GEOID']"
   ]
  },
  {
   "cell_type": "code",
   "execution_count": 7,
   "metadata": {
    "collapsed": false
   },
   "outputs": [
    {
     "data": {
      "text/html": [
       "<div>\n",
       "<table border=\"1\" class=\"dataframe\">\n",
       "  <thead>\n",
       "    <tr style=\"text-align: right;\">\n",
       "      <th></th>\n",
       "      <th>POPGROUP</th>\n",
       "      <th>label</th>\n",
       "      <th>GEOIDLONG</th>\n",
       "      <th>GEOID</th>\n",
       "    </tr>\n",
       "  </thead>\n",
       "  <tbody>\n",
       "    <tr>\n",
       "      <th>0</th>\n",
       "      <td>1</td>\n",
       "      <td>Total population</td>\n",
       "      <td>1400000US06001400100</td>\n",
       "      <td>6001400100</td>\n",
       "    </tr>\n",
       "    <tr>\n",
       "      <th>1</th>\n",
       "      <td>1</td>\n",
       "      <td>Total population</td>\n",
       "      <td>1400000US06001400200</td>\n",
       "      <td>6001400200</td>\n",
       "    </tr>\n",
       "    <tr>\n",
       "      <th>2</th>\n",
       "      <td>1</td>\n",
       "      <td>Total population</td>\n",
       "      <td>1400000US06001400300</td>\n",
       "      <td>6001400300</td>\n",
       "    </tr>\n",
       "    <tr>\n",
       "      <th>3</th>\n",
       "      <td>1</td>\n",
       "      <td>Total population</td>\n",
       "      <td>1400000US06001400400</td>\n",
       "      <td>6001400400</td>\n",
       "    </tr>\n",
       "    <tr>\n",
       "      <th>4</th>\n",
       "      <td>1</td>\n",
       "      <td>Total population</td>\n",
       "      <td>1400000US06001400500</td>\n",
       "      <td>6001400500</td>\n",
       "    </tr>\n",
       "  </tbody>\n",
       "</table>\n",
       "</div>"
      ],
      "text/plain": [
       "   POPGROUP             label             GEOIDLONG       GEOID\n",
       "0         1  Total population  1400000US06001400100  6001400100\n",
       "1         1  Total population  1400000US06001400200  6001400200\n",
       "2         1  Total population  1400000US06001400300  6001400300\n",
       "3         1  Total population  1400000US06001400400  6001400400\n",
       "4         1  Total population  1400000US06001400500  6001400500"
      ]
     },
     "execution_count": 7,
     "metadata": {},
     "output_type": "execute_result"
    }
   ],
   "source": [
    "df.iloc[:5, :4]"
   ]
  },
  {
   "cell_type": "markdown",
   "metadata": {},
   "source": [
    "We can select rows based on their value as well.  Notice that we nest df[df[condition]] to get this result."
   ]
  },
  {
   "cell_type": "code",
   "execution_count": 8,
   "metadata": {
    "collapsed": false
   },
   "outputs": [
    {
     "data": {
      "text/html": [
       "<div>\n",
       "<table border=\"1\" class=\"dataframe\">\n",
       "  <thead>\n",
       "    <tr style=\"text-align: right;\">\n",
       "      <th></th>\n",
       "      <th>POPGROUP</th>\n",
       "      <th>label</th>\n",
       "      <th>GEOIDLONG</th>\n",
       "      <th>GEOID</th>\n",
       "      <th>geodisplay</th>\n",
       "      <th>Population</th>\n",
       "    </tr>\n",
       "  </thead>\n",
       "  <tbody>\n",
       "    <tr>\n",
       "      <th>688</th>\n",
       "      <td>1</td>\n",
       "      <td>Total population</td>\n",
       "      <td>1400000US06017031900</td>\n",
       "      <td>6017031900</td>\n",
       "      <td>Census Tract 319, El Dorado County, California</td>\n",
       "      <td>133</td>\n",
       "    </tr>\n",
       "    <tr>\n",
       "      <th>2729</th>\n",
       "      <td>1</td>\n",
       "      <td>Total population</td>\n",
       "      <td>1400000US06037532400</td>\n",
       "      <td>6037532400</td>\n",
       "      <td>Census Tract 5324, Los Angeles County, California</td>\n",
       "      <td>112</td>\n",
       "    </tr>\n",
       "    <tr>\n",
       "      <th>3051</th>\n",
       "      <td>1</td>\n",
       "      <td>Total population</td>\n",
       "      <td>1400000US06037574700</td>\n",
       "      <td>6037574700</td>\n",
       "      <td>Census Tract 5747, Los Angeles County, California</td>\n",
       "      <td>117</td>\n",
       "    </tr>\n",
       "    <tr>\n",
       "      <th>3473</th>\n",
       "      <td>1</td>\n",
       "      <td>Total population</td>\n",
       "      <td>1400000US06037930101</td>\n",
       "      <td>6037930101</td>\n",
       "      <td>Census Tract 9301.01, Los Angeles County, Cali...</td>\n",
       "      <td>119</td>\n",
       "    </tr>\n",
       "    <tr>\n",
       "      <th>3477</th>\n",
       "      <td>1</td>\n",
       "      <td>Total population</td>\n",
       "      <td>1400000US06037980004</td>\n",
       "      <td>6037980004</td>\n",
       "      <td>Census Tract 9800.04, Los Angeles County, Cali...</td>\n",
       "      <td>169</td>\n",
       "    </tr>\n",
       "    <tr>\n",
       "      <th>3478</th>\n",
       "      <td>1</td>\n",
       "      <td>Total population</td>\n",
       "      <td>1400000US06037980008</td>\n",
       "      <td>6037980008</td>\n",
       "      <td>Census Tract 9800.08, Los Angeles County, Cali...</td>\n",
       "      <td>145</td>\n",
       "    </tr>\n",
       "    <tr>\n",
       "      <th>3479</th>\n",
       "      <td>1</td>\n",
       "      <td>Total population</td>\n",
       "      <td>1400000US06037980010</td>\n",
       "      <td>6037980010</td>\n",
       "      <td>Census Tract 9800.10, Los Angeles County, Cali...</td>\n",
       "      <td>164</td>\n",
       "    </tr>\n",
       "    <tr>\n",
       "      <th>3482</th>\n",
       "      <td>1</td>\n",
       "      <td>Total population</td>\n",
       "      <td>1400000US06037980019</td>\n",
       "      <td>6037980019</td>\n",
       "      <td>Census Tract 9800.19, Los Angeles County, Cali...</td>\n",
       "      <td>173</td>\n",
       "    </tr>\n",
       "    <tr>\n",
       "      <th>3483</th>\n",
       "      <td>1</td>\n",
       "      <td>Total population</td>\n",
       "      <td>1400000US06037980024</td>\n",
       "      <td>6037980024</td>\n",
       "      <td>Census Tract 9800.24, Los Angeles County, Cali...</td>\n",
       "      <td>186</td>\n",
       "    </tr>\n",
       "    <tr>\n",
       "      <th>4906</th>\n",
       "      <td>1</td>\n",
       "      <td>Total population</td>\n",
       "      <td>1400000US06065940100</td>\n",
       "      <td>6065940100</td>\n",
       "      <td>Census Tract 9401, Riverside County, California</td>\n",
       "      <td>166</td>\n",
       "    </tr>\n",
       "    <tr>\n",
       "      <th>5719</th>\n",
       "      <td>1</td>\n",
       "      <td>Total population</td>\n",
       "      <td>1400000US06073005500</td>\n",
       "      <td>6073005500</td>\n",
       "      <td>Census Tract 55, San Diego County, California</td>\n",
       "      <td>198</td>\n",
       "    </tr>\n",
       "    <tr>\n",
       "      <th>5726</th>\n",
       "      <td>1</td>\n",
       "      <td>Total population</td>\n",
       "      <td>1400000US06073006200</td>\n",
       "      <td>6073006200</td>\n",
       "      <td>Census Tract 62, San Diego County, California</td>\n",
       "      <td>144</td>\n",
       "    </tr>\n",
       "    <tr>\n",
       "      <th>6433</th>\n",
       "      <td>1</td>\n",
       "      <td>Total population</td>\n",
       "      <td>1400000US06075980300</td>\n",
       "      <td>6075980300</td>\n",
       "      <td>Census Tract 9803, San Francisco County, Calif...</td>\n",
       "      <td>171</td>\n",
       "    </tr>\n",
       "  </tbody>\n",
       "</table>\n",
       "</div>"
      ],
      "text/plain": [
       "      POPGROUP             label             GEOIDLONG       GEOID  \\\n",
       "688          1  Total population  1400000US06017031900  6017031900   \n",
       "2729         1  Total population  1400000US06037532400  6037532400   \n",
       "3051         1  Total population  1400000US06037574700  6037574700   \n",
       "3473         1  Total population  1400000US06037930101  6037930101   \n",
       "3477         1  Total population  1400000US06037980004  6037980004   \n",
       "3478         1  Total population  1400000US06037980008  6037980008   \n",
       "3479         1  Total population  1400000US06037980010  6037980010   \n",
       "3482         1  Total population  1400000US06037980019  6037980019   \n",
       "3483         1  Total population  1400000US06037980024  6037980024   \n",
       "4906         1  Total population  1400000US06065940100  6065940100   \n",
       "5719         1  Total population  1400000US06073005500  6073005500   \n",
       "5726         1  Total population  1400000US06073006200  6073006200   \n",
       "6433         1  Total population  1400000US06075980300  6075980300   \n",
       "\n",
       "                                             geodisplay  Population  \n",
       "688      Census Tract 319, El Dorado County, California         133  \n",
       "2729  Census Tract 5324, Los Angeles County, California         112  \n",
       "3051  Census Tract 5747, Los Angeles County, California         117  \n",
       "3473  Census Tract 9301.01, Los Angeles County, Cali...         119  \n",
       "3477  Census Tract 9800.04, Los Angeles County, Cali...         169  \n",
       "3478  Census Tract 9800.08, Los Angeles County, Cali...         145  \n",
       "3479  Census Tract 9800.10, Los Angeles County, Cali...         164  \n",
       "3482  Census Tract 9800.19, Los Angeles County, Cali...         173  \n",
       "3483  Census Tract 9800.24, Los Angeles County, Cali...         186  \n",
       "4906    Census Tract 9401, Riverside County, California         166  \n",
       "5719      Census Tract 55, San Diego County, California         198  \n",
       "5726      Census Tract 62, San Diego County, California         144  \n",
       "6433  Census Tract 9803, San Francisco County, Calif...         171  "
      ]
     },
     "execution_count": 8,
     "metadata": {},
     "output_type": "execute_result"
    }
   ],
   "source": [
    "df[df['Population'] < 200]"
   ]
  },
  {
   "cell_type": "code",
   "execution_count": 9,
   "metadata": {
    "collapsed": false
   },
   "outputs": [
    {
     "data": {
      "text/html": [
       "<div>\n",
       "<table border=\"1\" class=\"dataframe\">\n",
       "  <thead>\n",
       "    <tr style=\"text-align: right;\">\n",
       "      <th></th>\n",
       "      <th>POPGROUP</th>\n",
       "      <th>label</th>\n",
       "      <th>GEOIDLONG</th>\n",
       "      <th>GEOID</th>\n",
       "      <th>geodisplay</th>\n",
       "      <th>Population</th>\n",
       "    </tr>\n",
       "  </thead>\n",
       "  <tbody>\n",
       "    <tr>\n",
       "      <th>688</th>\n",
       "      <td>1</td>\n",
       "      <td>Total population</td>\n",
       "      <td>1400000US06017031900</td>\n",
       "      <td>6017031900</td>\n",
       "      <td>Census Tract 319, El Dorado County, California</td>\n",
       "      <td>133</td>\n",
       "    </tr>\n",
       "  </tbody>\n",
       "</table>\n",
       "</div>"
      ],
      "text/plain": [
       "     POPGROUP             label             GEOIDLONG       GEOID  \\\n",
       "688         1  Total population  1400000US06017031900  6017031900   \n",
       "\n",
       "                                         geodisplay  Population  \n",
       "688  Census Tract 319, El Dorado County, California         133  "
      ]
     },
     "execution_count": 9,
     "metadata": {},
     "output_type": "execute_result"
    }
   ],
   "source": [
    "df[df['GEOID']==6017031900]"
   ]
  },
  {
   "cell_type": "markdown",
   "metadata": {},
   "source": [
    "Here we show how to set a value of a cell in the table, identifying a specific row by index label, and setting its population, in this case to a None value, which Pandas interprets as a NaN (missing value)."
   ]
  },
  {
   "cell_type": "code",
   "execution_count": 10,
   "metadata": {
    "collapsed": false
   },
   "outputs": [],
   "source": [
    "df.loc[688,'Population'] = None"
   ]
  },
  {
   "cell_type": "markdown",
   "metadata": {},
   "source": [
    "We can filter for values that are Null"
   ]
  },
  {
   "cell_type": "code",
   "execution_count": 11,
   "metadata": {
    "collapsed": false
   },
   "outputs": [
    {
     "data": {
      "text/html": [
       "<div>\n",
       "<table border=\"1\" class=\"dataframe\">\n",
       "  <thead>\n",
       "    <tr style=\"text-align: right;\">\n",
       "      <th></th>\n",
       "      <th>POPGROUP</th>\n",
       "      <th>label</th>\n",
       "      <th>GEOIDLONG</th>\n",
       "      <th>GEOID</th>\n",
       "      <th>geodisplay</th>\n",
       "      <th>Population</th>\n",
       "    </tr>\n",
       "  </thead>\n",
       "  <tbody>\n",
       "    <tr>\n",
       "      <th>688</th>\n",
       "      <td>1</td>\n",
       "      <td>Total population</td>\n",
       "      <td>1400000US06017031900</td>\n",
       "      <td>6017031900</td>\n",
       "      <td>Census Tract 319, El Dorado County, California</td>\n",
       "      <td>NaN</td>\n",
       "    </tr>\n",
       "  </tbody>\n",
       "</table>\n",
       "</div>"
      ],
      "text/plain": [
       "     POPGROUP             label             GEOIDLONG       GEOID  \\\n",
       "688         1  Total population  1400000US06017031900  6017031900   \n",
       "\n",
       "                                         geodisplay  Population  \n",
       "688  Census Tract 319, El Dorado County, California         NaN  "
      ]
     },
     "execution_count": 11,
     "metadata": {},
     "output_type": "execute_result"
    }
   ],
   "source": [
    "df[df['Population'].isnull()]"
   ]
  },
  {
   "cell_type": "markdown",
   "metadata": {},
   "source": [
    "Or more commonly, filter out the null values."
   ]
  },
  {
   "cell_type": "code",
   "execution_count": 12,
   "metadata": {
    "collapsed": false
   },
   "outputs": [
    {
     "data": {
      "text/html": [
       "<div>\n",
       "<table border=\"1\" class=\"dataframe\">\n",
       "  <thead>\n",
       "    <tr style=\"text-align: right;\">\n",
       "      <th></th>\n",
       "      <th>POPGROUP</th>\n",
       "      <th>label</th>\n",
       "      <th>GEOIDLONG</th>\n",
       "      <th>GEOID</th>\n",
       "      <th>geodisplay</th>\n",
       "      <th>Population</th>\n",
       "    </tr>\n",
       "  </thead>\n",
       "  <tbody>\n",
       "    <tr>\n",
       "      <th>0</th>\n",
       "      <td>1</td>\n",
       "      <td>Total population</td>\n",
       "      <td>1400000US06001400100</td>\n",
       "      <td>6001400100</td>\n",
       "      <td>Census Tract 4001, Alameda County, California</td>\n",
       "      <td>2937.0</td>\n",
       "    </tr>\n",
       "    <tr>\n",
       "      <th>1</th>\n",
       "      <td>1</td>\n",
       "      <td>Total population</td>\n",
       "      <td>1400000US06001400200</td>\n",
       "      <td>6001400200</td>\n",
       "      <td>Census Tract 4002, Alameda County, California</td>\n",
       "      <td>1974.0</td>\n",
       "    </tr>\n",
       "    <tr>\n",
       "      <th>2</th>\n",
       "      <td>1</td>\n",
       "      <td>Total population</td>\n",
       "      <td>1400000US06001400300</td>\n",
       "      <td>6001400300</td>\n",
       "      <td>Census Tract 4003, Alameda County, California</td>\n",
       "      <td>4865.0</td>\n",
       "    </tr>\n",
       "    <tr>\n",
       "      <th>3</th>\n",
       "      <td>1</td>\n",
       "      <td>Total population</td>\n",
       "      <td>1400000US06001400400</td>\n",
       "      <td>6001400400</td>\n",
       "      <td>Census Tract 4004, Alameda County, California</td>\n",
       "      <td>3703.0</td>\n",
       "    </tr>\n",
       "    <tr>\n",
       "      <th>4</th>\n",
       "      <td>1</td>\n",
       "      <td>Total population</td>\n",
       "      <td>1400000US06001400500</td>\n",
       "      <td>6001400500</td>\n",
       "      <td>Census Tract 4005, Alameda County, California</td>\n",
       "      <td>3517.0</td>\n",
       "    </tr>\n",
       "    <tr>\n",
       "      <th>5</th>\n",
       "      <td>1</td>\n",
       "      <td>Total population</td>\n",
       "      <td>1400000US06001400600</td>\n",
       "      <td>6001400600</td>\n",
       "      <td>Census Tract 4006, Alameda County, California</td>\n",
       "      <td>1571.0</td>\n",
       "    </tr>\n",
       "    <tr>\n",
       "      <th>6</th>\n",
       "      <td>1</td>\n",
       "      <td>Total population</td>\n",
       "      <td>1400000US06001400700</td>\n",
       "      <td>6001400700</td>\n",
       "      <td>Census Tract 4007, Alameda County, California</td>\n",
       "      <td>4206.0</td>\n",
       "    </tr>\n",
       "    <tr>\n",
       "      <th>7</th>\n",
       "      <td>1</td>\n",
       "      <td>Total population</td>\n",
       "      <td>1400000US06001400800</td>\n",
       "      <td>6001400800</td>\n",
       "      <td>Census Tract 4008, Alameda County, California</td>\n",
       "      <td>3594.0</td>\n",
       "    </tr>\n",
       "    <tr>\n",
       "      <th>8</th>\n",
       "      <td>1</td>\n",
       "      <td>Total population</td>\n",
       "      <td>1400000US06001400900</td>\n",
       "      <td>6001400900</td>\n",
       "      <td>Census Tract 4009, Alameda County, California</td>\n",
       "      <td>2302.0</td>\n",
       "    </tr>\n",
       "    <tr>\n",
       "      <th>9</th>\n",
       "      <td>1</td>\n",
       "      <td>Total population</td>\n",
       "      <td>1400000US06001401000</td>\n",
       "      <td>6001401000</td>\n",
       "      <td>Census Tract 4010, Alameda County, California</td>\n",
       "      <td>5678.0</td>\n",
       "    </tr>\n",
       "    <tr>\n",
       "      <th>10</th>\n",
       "      <td>1</td>\n",
       "      <td>Total population</td>\n",
       "      <td>1400000US06001401100</td>\n",
       "      <td>6001401100</td>\n",
       "      <td>Census Tract 4011, Alameda County, California</td>\n",
       "      <td>4156.0</td>\n",
       "    </tr>\n",
       "    <tr>\n",
       "      <th>11</th>\n",
       "      <td>1</td>\n",
       "      <td>Total population</td>\n",
       "      <td>1400000US06001401200</td>\n",
       "      <td>6001401200</td>\n",
       "      <td>Census Tract 4012, Alameda County, California</td>\n",
       "      <td>2416.0</td>\n",
       "    </tr>\n",
       "    <tr>\n",
       "      <th>12</th>\n",
       "      <td>1</td>\n",
       "      <td>Total population</td>\n",
       "      <td>1400000US06001401300</td>\n",
       "      <td>6001401300</td>\n",
       "      <td>Census Tract 4013, Alameda County, California</td>\n",
       "      <td>3528.0</td>\n",
       "    </tr>\n",
       "    <tr>\n",
       "      <th>13</th>\n",
       "      <td>1</td>\n",
       "      <td>Total population</td>\n",
       "      <td>1400000US06001401400</td>\n",
       "      <td>6001401400</td>\n",
       "      <td>Census Tract 4014, Alameda County, California</td>\n",
       "      <td>4314.0</td>\n",
       "    </tr>\n",
       "    <tr>\n",
       "      <th>14</th>\n",
       "      <td>1</td>\n",
       "      <td>Total population</td>\n",
       "      <td>1400000US06001401500</td>\n",
       "      <td>6001401500</td>\n",
       "      <td>Census Tract 4015, Alameda County, California</td>\n",
       "      <td>2630.0</td>\n",
       "    </tr>\n",
       "    <tr>\n",
       "      <th>15</th>\n",
       "      <td>1</td>\n",
       "      <td>Total population</td>\n",
       "      <td>1400000US06001401600</td>\n",
       "      <td>6001401600</td>\n",
       "      <td>Census Tract 4016, Alameda County, California</td>\n",
       "      <td>2163.0</td>\n",
       "    </tr>\n",
       "    <tr>\n",
       "      <th>16</th>\n",
       "      <td>1</td>\n",
       "      <td>Total population</td>\n",
       "      <td>1400000US06001401700</td>\n",
       "      <td>6001401700</td>\n",
       "      <td>Census Tract 4017, Alameda County, California</td>\n",
       "      <td>2667.0</td>\n",
       "    </tr>\n",
       "    <tr>\n",
       "      <th>17</th>\n",
       "      <td>1</td>\n",
       "      <td>Total population</td>\n",
       "      <td>1400000US06001401800</td>\n",
       "      <td>6001401800</td>\n",
       "      <td>Census Tract 4018, Alameda County, California</td>\n",
       "      <td>1703.0</td>\n",
       "    </tr>\n",
       "    <tr>\n",
       "      <th>18</th>\n",
       "      <td>1</td>\n",
       "      <td>Total population</td>\n",
       "      <td>1400000US06001402200</td>\n",
       "      <td>6001402200</td>\n",
       "      <td>Census Tract 4022, Alameda County, California</td>\n",
       "      <td>2385.0</td>\n",
       "    </tr>\n",
       "    <tr>\n",
       "      <th>19</th>\n",
       "      <td>1</td>\n",
       "      <td>Total population</td>\n",
       "      <td>1400000US06001402400</td>\n",
       "      <td>6001402400</td>\n",
       "      <td>Census Tract 4024, Alameda County, California</td>\n",
       "      <td>2351.0</td>\n",
       "    </tr>\n",
       "    <tr>\n",
       "      <th>20</th>\n",
       "      <td>1</td>\n",
       "      <td>Total population</td>\n",
       "      <td>1400000US06001402500</td>\n",
       "      <td>6001402500</td>\n",
       "      <td>Census Tract 4025, Alameda County, California</td>\n",
       "      <td>1784.0</td>\n",
       "    </tr>\n",
       "    <tr>\n",
       "      <th>21</th>\n",
       "      <td>1</td>\n",
       "      <td>Total population</td>\n",
       "      <td>1400000US06001402600</td>\n",
       "      <td>6001402600</td>\n",
       "      <td>Census Tract 4026, Alameda County, California</td>\n",
       "      <td>1151.0</td>\n",
       "    </tr>\n",
       "    <tr>\n",
       "      <th>22</th>\n",
       "      <td>1</td>\n",
       "      <td>Total population</td>\n",
       "      <td>1400000US06001402700</td>\n",
       "      <td>6001402700</td>\n",
       "      <td>Census Tract 4027, Alameda County, California</td>\n",
       "      <td>1569.0</td>\n",
       "    </tr>\n",
       "    <tr>\n",
       "      <th>23</th>\n",
       "      <td>1</td>\n",
       "      <td>Total population</td>\n",
       "      <td>1400000US06001402800</td>\n",
       "      <td>6001402800</td>\n",
       "      <td>Census Tract 4028, Alameda County, California</td>\n",
       "      <td>3345.0</td>\n",
       "    </tr>\n",
       "    <tr>\n",
       "      <th>24</th>\n",
       "      <td>1</td>\n",
       "      <td>Total population</td>\n",
       "      <td>1400000US06001402900</td>\n",
       "      <td>6001402900</td>\n",
       "      <td>Census Tract 4029, Alameda County, California</td>\n",
       "      <td>1434.0</td>\n",
       "    </tr>\n",
       "    <tr>\n",
       "      <th>25</th>\n",
       "      <td>1</td>\n",
       "      <td>Total population</td>\n",
       "      <td>1400000US06001403000</td>\n",
       "      <td>6001403000</td>\n",
       "      <td>Census Tract 4030, Alameda County, California</td>\n",
       "      <td>2788.0</td>\n",
       "    </tr>\n",
       "    <tr>\n",
       "      <th>26</th>\n",
       "      <td>1</td>\n",
       "      <td>Total population</td>\n",
       "      <td>1400000US06001403100</td>\n",
       "      <td>6001403100</td>\n",
       "      <td>Census Tract 4031, Alameda County, California</td>\n",
       "      <td>2238.0</td>\n",
       "    </tr>\n",
       "    <tr>\n",
       "      <th>27</th>\n",
       "      <td>1</td>\n",
       "      <td>Total population</td>\n",
       "      <td>1400000US06001403300</td>\n",
       "      <td>6001403300</td>\n",
       "      <td>Census Tract 4033, Alameda County, California</td>\n",
       "      <td>4054.0</td>\n",
       "    </tr>\n",
       "    <tr>\n",
       "      <th>28</th>\n",
       "      <td>1</td>\n",
       "      <td>Total population</td>\n",
       "      <td>1400000US06001403400</td>\n",
       "      <td>6001403400</td>\n",
       "      <td>Census Tract 4034, Alameda County, California</td>\n",
       "      <td>4146.0</td>\n",
       "    </tr>\n",
       "    <tr>\n",
       "      <th>29</th>\n",
       "      <td>1</td>\n",
       "      <td>Total population</td>\n",
       "      <td>1400000US06001403501</td>\n",
       "      <td>6001403501</td>\n",
       "      <td>Census Tract 4035.01, Alameda County, California</td>\n",
       "      <td>4374.0</td>\n",
       "    </tr>\n",
       "    <tr>\n",
       "      <th>...</th>\n",
       "      <td>...</td>\n",
       "      <td>...</td>\n",
       "      <td>...</td>\n",
       "      <td>...</td>\n",
       "      <td>...</td>\n",
       "      <td>...</td>\n",
       "    </tr>\n",
       "    <tr>\n",
       "      <th>7970</th>\n",
       "      <td>1</td>\n",
       "      <td>Total population</td>\n",
       "      <td>1400000US06113010704</td>\n",
       "      <td>6113010704</td>\n",
       "      <td>Census Tract 107.04, Yolo County, California</td>\n",
       "      <td>2267.0</td>\n",
       "    </tr>\n",
       "    <tr>\n",
       "      <th>7971</th>\n",
       "      <td>1</td>\n",
       "      <td>Total population</td>\n",
       "      <td>1400000US06113010800</td>\n",
       "      <td>6113010800</td>\n",
       "      <td>Census Tract 108, Yolo County, California</td>\n",
       "      <td>3881.0</td>\n",
       "    </tr>\n",
       "    <tr>\n",
       "      <th>7972</th>\n",
       "      <td>1</td>\n",
       "      <td>Total population</td>\n",
       "      <td>1400000US06113010901</td>\n",
       "      <td>6113010901</td>\n",
       "      <td>Census Tract 109.01, Yolo County, California</td>\n",
       "      <td>5311.0</td>\n",
       "    </tr>\n",
       "    <tr>\n",
       "      <th>7973</th>\n",
       "      <td>1</td>\n",
       "      <td>Total population</td>\n",
       "      <td>1400000US06113010902</td>\n",
       "      <td>6113010902</td>\n",
       "      <td>Census Tract 109.02, Yolo County, California</td>\n",
       "      <td>6189.0</td>\n",
       "    </tr>\n",
       "    <tr>\n",
       "      <th>7974</th>\n",
       "      <td>1</td>\n",
       "      <td>Total population</td>\n",
       "      <td>1400000US06113011001</td>\n",
       "      <td>6113011001</td>\n",
       "      <td>Census Tract 110.01, Yolo County, California</td>\n",
       "      <td>6464.0</td>\n",
       "    </tr>\n",
       "    <tr>\n",
       "      <th>7975</th>\n",
       "      <td>1</td>\n",
       "      <td>Total population</td>\n",
       "      <td>1400000US06113011002</td>\n",
       "      <td>6113011002</td>\n",
       "      <td>Census Tract 110.02, Yolo County, California</td>\n",
       "      <td>3093.0</td>\n",
       "    </tr>\n",
       "    <tr>\n",
       "      <th>7976</th>\n",
       "      <td>1</td>\n",
       "      <td>Total population</td>\n",
       "      <td>1400000US06113011101</td>\n",
       "      <td>6113011101</td>\n",
       "      <td>Census Tract 111.01, Yolo County, California</td>\n",
       "      <td>3070.0</td>\n",
       "    </tr>\n",
       "    <tr>\n",
       "      <th>7977</th>\n",
       "      <td>1</td>\n",
       "      <td>Total population</td>\n",
       "      <td>1400000US06113011102</td>\n",
       "      <td>6113011102</td>\n",
       "      <td>Census Tract 111.02, Yolo County, California</td>\n",
       "      <td>4884.0</td>\n",
       "    </tr>\n",
       "    <tr>\n",
       "      <th>7978</th>\n",
       "      <td>1</td>\n",
       "      <td>Total population</td>\n",
       "      <td>1400000US06113011103</td>\n",
       "      <td>6113011103</td>\n",
       "      <td>Census Tract 111.03, Yolo County, California</td>\n",
       "      <td>3118.0</td>\n",
       "    </tr>\n",
       "    <tr>\n",
       "      <th>7979</th>\n",
       "      <td>1</td>\n",
       "      <td>Total population</td>\n",
       "      <td>1400000US06113011203</td>\n",
       "      <td>6113011203</td>\n",
       "      <td>Census Tract 112.03, Yolo County, California</td>\n",
       "      <td>2561.0</td>\n",
       "    </tr>\n",
       "    <tr>\n",
       "      <th>7980</th>\n",
       "      <td>1</td>\n",
       "      <td>Total population</td>\n",
       "      <td>1400000US06113011204</td>\n",
       "      <td>6113011204</td>\n",
       "      <td>Census Tract 112.04, Yolo County, California</td>\n",
       "      <td>4672.0</td>\n",
       "    </tr>\n",
       "    <tr>\n",
       "      <th>7981</th>\n",
       "      <td>1</td>\n",
       "      <td>Total population</td>\n",
       "      <td>1400000US06113011205</td>\n",
       "      <td>6113011205</td>\n",
       "      <td>Census Tract 112.05, Yolo County, California</td>\n",
       "      <td>8123.0</td>\n",
       "    </tr>\n",
       "    <tr>\n",
       "      <th>7982</th>\n",
       "      <td>1</td>\n",
       "      <td>Total population</td>\n",
       "      <td>1400000US06113011206</td>\n",
       "      <td>6113011206</td>\n",
       "      <td>Census Tract 112.06, Yolo County, California</td>\n",
       "      <td>7329.0</td>\n",
       "    </tr>\n",
       "    <tr>\n",
       "      <th>7983</th>\n",
       "      <td>1</td>\n",
       "      <td>Total population</td>\n",
       "      <td>1400000US06113011300</td>\n",
       "      <td>6113011300</td>\n",
       "      <td>Census Tract 113, Yolo County, California</td>\n",
       "      <td>8106.0</td>\n",
       "    </tr>\n",
       "    <tr>\n",
       "      <th>7984</th>\n",
       "      <td>1</td>\n",
       "      <td>Total population</td>\n",
       "      <td>1400000US06113011400</td>\n",
       "      <td>6113011400</td>\n",
       "      <td>Census Tract 114, Yolo County, California</td>\n",
       "      <td>4193.0</td>\n",
       "    </tr>\n",
       "    <tr>\n",
       "      <th>7985</th>\n",
       "      <td>1</td>\n",
       "      <td>Total population</td>\n",
       "      <td>1400000US06113011500</td>\n",
       "      <td>6113011500</td>\n",
       "      <td>Census Tract 115, Yolo County, California</td>\n",
       "      <td>5325.0</td>\n",
       "    </tr>\n",
       "    <tr>\n",
       "      <th>7986</th>\n",
       "      <td>1</td>\n",
       "      <td>Total population</td>\n",
       "      <td>1400000US06115040100</td>\n",
       "      <td>6115040100</td>\n",
       "      <td>Census Tract 401, Yuba County, California</td>\n",
       "      <td>4615.0</td>\n",
       "    </tr>\n",
       "    <tr>\n",
       "      <th>7987</th>\n",
       "      <td>1</td>\n",
       "      <td>Total population</td>\n",
       "      <td>1400000US06115040200</td>\n",
       "      <td>6115040200</td>\n",
       "      <td>Census Tract 402, Yuba County, California</td>\n",
       "      <td>7767.0</td>\n",
       "    </tr>\n",
       "    <tr>\n",
       "      <th>7988</th>\n",
       "      <td>1</td>\n",
       "      <td>Total population</td>\n",
       "      <td>1400000US06115040301</td>\n",
       "      <td>6115040301</td>\n",
       "      <td>Census Tract 403.01, Yuba County, California</td>\n",
       "      <td>3366.0</td>\n",
       "    </tr>\n",
       "    <tr>\n",
       "      <th>7989</th>\n",
       "      <td>1</td>\n",
       "      <td>Total population</td>\n",
       "      <td>1400000US06115040302</td>\n",
       "      <td>6115040302</td>\n",
       "      <td>Census Tract 403.02, Yuba County, California</td>\n",
       "      <td>2143.0</td>\n",
       "    </tr>\n",
       "    <tr>\n",
       "      <th>7990</th>\n",
       "      <td>1</td>\n",
       "      <td>Total population</td>\n",
       "      <td>1400000US06115040303</td>\n",
       "      <td>6115040303</td>\n",
       "      <td>Census Tract 403.03, Yuba County, California</td>\n",
       "      <td>6555.0</td>\n",
       "    </tr>\n",
       "    <tr>\n",
       "      <th>7991</th>\n",
       "      <td>1</td>\n",
       "      <td>Total population</td>\n",
       "      <td>1400000US06115040400</td>\n",
       "      <td>6115040400</td>\n",
       "      <td>Census Tract 404, Yuba County, California</td>\n",
       "      <td>5538.0</td>\n",
       "    </tr>\n",
       "    <tr>\n",
       "      <th>7992</th>\n",
       "      <td>1</td>\n",
       "      <td>Total population</td>\n",
       "      <td>1400000US06115040500</td>\n",
       "      <td>6115040500</td>\n",
       "      <td>Census Tract 405, Yuba County, California</td>\n",
       "      <td>4111.0</td>\n",
       "    </tr>\n",
       "    <tr>\n",
       "      <th>7993</th>\n",
       "      <td>1</td>\n",
       "      <td>Total population</td>\n",
       "      <td>1400000US06115040600</td>\n",
       "      <td>6115040600</td>\n",
       "      <td>Census Tract 406, Yuba County, California</td>\n",
       "      <td>6130.0</td>\n",
       "    </tr>\n",
       "    <tr>\n",
       "      <th>7994</th>\n",
       "      <td>1</td>\n",
       "      <td>Total population</td>\n",
       "      <td>1400000US06115040700</td>\n",
       "      <td>6115040700</td>\n",
       "      <td>Census Tract 407, Yuba County, California</td>\n",
       "      <td>10879.0</td>\n",
       "    </tr>\n",
       "    <tr>\n",
       "      <th>7995</th>\n",
       "      <td>1</td>\n",
       "      <td>Total population</td>\n",
       "      <td>1400000US06115040800</td>\n",
       "      <td>6115040800</td>\n",
       "      <td>Census Tract 408, Yuba County, California</td>\n",
       "      <td>4233.0</td>\n",
       "    </tr>\n",
       "    <tr>\n",
       "      <th>7996</th>\n",
       "      <td>1</td>\n",
       "      <td>Total population</td>\n",
       "      <td>1400000US06115040901</td>\n",
       "      <td>6115040901</td>\n",
       "      <td>Census Tract 409.01, Yuba County, California</td>\n",
       "      <td>2783.0</td>\n",
       "    </tr>\n",
       "    <tr>\n",
       "      <th>7997</th>\n",
       "      <td>1</td>\n",
       "      <td>Total population</td>\n",
       "      <td>1400000US06115040902</td>\n",
       "      <td>6115040902</td>\n",
       "      <td>Census Tract 409.02, Yuba County, California</td>\n",
       "      <td>1737.0</td>\n",
       "    </tr>\n",
       "    <tr>\n",
       "      <th>7998</th>\n",
       "      <td>1</td>\n",
       "      <td>Total population</td>\n",
       "      <td>1400000US06115041000</td>\n",
       "      <td>6115041000</td>\n",
       "      <td>Census Tract 410, Yuba County, California</td>\n",
       "      <td>7357.0</td>\n",
       "    </tr>\n",
       "    <tr>\n",
       "      <th>7999</th>\n",
       "      <td>1</td>\n",
       "      <td>Total population</td>\n",
       "      <td>1400000US06115041100</td>\n",
       "      <td>6115041100</td>\n",
       "      <td>Census Tract 411, Yuba County, California</td>\n",
       "      <td>4941.0</td>\n",
       "    </tr>\n",
       "  </tbody>\n",
       "</table>\n",
       "<p>7999 rows × 6 columns</p>\n",
       "</div>"
      ],
      "text/plain": [
       "      POPGROUP             label             GEOIDLONG       GEOID  \\\n",
       "0            1  Total population  1400000US06001400100  6001400100   \n",
       "1            1  Total population  1400000US06001400200  6001400200   \n",
       "2            1  Total population  1400000US06001400300  6001400300   \n",
       "3            1  Total population  1400000US06001400400  6001400400   \n",
       "4            1  Total population  1400000US06001400500  6001400500   \n",
       "5            1  Total population  1400000US06001400600  6001400600   \n",
       "6            1  Total population  1400000US06001400700  6001400700   \n",
       "7            1  Total population  1400000US06001400800  6001400800   \n",
       "8            1  Total population  1400000US06001400900  6001400900   \n",
       "9            1  Total population  1400000US06001401000  6001401000   \n",
       "10           1  Total population  1400000US06001401100  6001401100   \n",
       "11           1  Total population  1400000US06001401200  6001401200   \n",
       "12           1  Total population  1400000US06001401300  6001401300   \n",
       "13           1  Total population  1400000US06001401400  6001401400   \n",
       "14           1  Total population  1400000US06001401500  6001401500   \n",
       "15           1  Total population  1400000US06001401600  6001401600   \n",
       "16           1  Total population  1400000US06001401700  6001401700   \n",
       "17           1  Total population  1400000US06001401800  6001401800   \n",
       "18           1  Total population  1400000US06001402200  6001402200   \n",
       "19           1  Total population  1400000US06001402400  6001402400   \n",
       "20           1  Total population  1400000US06001402500  6001402500   \n",
       "21           1  Total population  1400000US06001402600  6001402600   \n",
       "22           1  Total population  1400000US06001402700  6001402700   \n",
       "23           1  Total population  1400000US06001402800  6001402800   \n",
       "24           1  Total population  1400000US06001402900  6001402900   \n",
       "25           1  Total population  1400000US06001403000  6001403000   \n",
       "26           1  Total population  1400000US06001403100  6001403100   \n",
       "27           1  Total population  1400000US06001403300  6001403300   \n",
       "28           1  Total population  1400000US06001403400  6001403400   \n",
       "29           1  Total population  1400000US06001403501  6001403501   \n",
       "...        ...               ...                   ...         ...   \n",
       "7970         1  Total population  1400000US06113010704  6113010704   \n",
       "7971         1  Total population  1400000US06113010800  6113010800   \n",
       "7972         1  Total population  1400000US06113010901  6113010901   \n",
       "7973         1  Total population  1400000US06113010902  6113010902   \n",
       "7974         1  Total population  1400000US06113011001  6113011001   \n",
       "7975         1  Total population  1400000US06113011002  6113011002   \n",
       "7976         1  Total population  1400000US06113011101  6113011101   \n",
       "7977         1  Total population  1400000US06113011102  6113011102   \n",
       "7978         1  Total population  1400000US06113011103  6113011103   \n",
       "7979         1  Total population  1400000US06113011203  6113011203   \n",
       "7980         1  Total population  1400000US06113011204  6113011204   \n",
       "7981         1  Total population  1400000US06113011205  6113011205   \n",
       "7982         1  Total population  1400000US06113011206  6113011206   \n",
       "7983         1  Total population  1400000US06113011300  6113011300   \n",
       "7984         1  Total population  1400000US06113011400  6113011400   \n",
       "7985         1  Total population  1400000US06113011500  6113011500   \n",
       "7986         1  Total population  1400000US06115040100  6115040100   \n",
       "7987         1  Total population  1400000US06115040200  6115040200   \n",
       "7988         1  Total population  1400000US06115040301  6115040301   \n",
       "7989         1  Total population  1400000US06115040302  6115040302   \n",
       "7990         1  Total population  1400000US06115040303  6115040303   \n",
       "7991         1  Total population  1400000US06115040400  6115040400   \n",
       "7992         1  Total population  1400000US06115040500  6115040500   \n",
       "7993         1  Total population  1400000US06115040600  6115040600   \n",
       "7994         1  Total population  1400000US06115040700  6115040700   \n",
       "7995         1  Total population  1400000US06115040800  6115040800   \n",
       "7996         1  Total population  1400000US06115040901  6115040901   \n",
       "7997         1  Total population  1400000US06115040902  6115040902   \n",
       "7998         1  Total population  1400000US06115041000  6115041000   \n",
       "7999         1  Total population  1400000US06115041100  6115041100   \n",
       "\n",
       "                                            geodisplay  Population  \n",
       "0        Census Tract 4001, Alameda County, California      2937.0  \n",
       "1        Census Tract 4002, Alameda County, California      1974.0  \n",
       "2        Census Tract 4003, Alameda County, California      4865.0  \n",
       "3        Census Tract 4004, Alameda County, California      3703.0  \n",
       "4        Census Tract 4005, Alameda County, California      3517.0  \n",
       "5        Census Tract 4006, Alameda County, California      1571.0  \n",
       "6        Census Tract 4007, Alameda County, California      4206.0  \n",
       "7        Census Tract 4008, Alameda County, California      3594.0  \n",
       "8        Census Tract 4009, Alameda County, California      2302.0  \n",
       "9        Census Tract 4010, Alameda County, California      5678.0  \n",
       "10       Census Tract 4011, Alameda County, California      4156.0  \n",
       "11       Census Tract 4012, Alameda County, California      2416.0  \n",
       "12       Census Tract 4013, Alameda County, California      3528.0  \n",
       "13       Census Tract 4014, Alameda County, California      4314.0  \n",
       "14       Census Tract 4015, Alameda County, California      2630.0  \n",
       "15       Census Tract 4016, Alameda County, California      2163.0  \n",
       "16       Census Tract 4017, Alameda County, California      2667.0  \n",
       "17       Census Tract 4018, Alameda County, California      1703.0  \n",
       "18       Census Tract 4022, Alameda County, California      2385.0  \n",
       "19       Census Tract 4024, Alameda County, California      2351.0  \n",
       "20       Census Tract 4025, Alameda County, California      1784.0  \n",
       "21       Census Tract 4026, Alameda County, California      1151.0  \n",
       "22       Census Tract 4027, Alameda County, California      1569.0  \n",
       "23       Census Tract 4028, Alameda County, California      3345.0  \n",
       "24       Census Tract 4029, Alameda County, California      1434.0  \n",
       "25       Census Tract 4030, Alameda County, California      2788.0  \n",
       "26       Census Tract 4031, Alameda County, California      2238.0  \n",
       "27       Census Tract 4033, Alameda County, California      4054.0  \n",
       "28       Census Tract 4034, Alameda County, California      4146.0  \n",
       "29    Census Tract 4035.01, Alameda County, California      4374.0  \n",
       "...                                                ...         ...  \n",
       "7970      Census Tract 107.04, Yolo County, California      2267.0  \n",
       "7971         Census Tract 108, Yolo County, California      3881.0  \n",
       "7972      Census Tract 109.01, Yolo County, California      5311.0  \n",
       "7973      Census Tract 109.02, Yolo County, California      6189.0  \n",
       "7974      Census Tract 110.01, Yolo County, California      6464.0  \n",
       "7975      Census Tract 110.02, Yolo County, California      3093.0  \n",
       "7976      Census Tract 111.01, Yolo County, California      3070.0  \n",
       "7977      Census Tract 111.02, Yolo County, California      4884.0  \n",
       "7978      Census Tract 111.03, Yolo County, California      3118.0  \n",
       "7979      Census Tract 112.03, Yolo County, California      2561.0  \n",
       "7980      Census Tract 112.04, Yolo County, California      4672.0  \n",
       "7981      Census Tract 112.05, Yolo County, California      8123.0  \n",
       "7982      Census Tract 112.06, Yolo County, California      7329.0  \n",
       "7983         Census Tract 113, Yolo County, California      8106.0  \n",
       "7984         Census Tract 114, Yolo County, California      4193.0  \n",
       "7985         Census Tract 115, Yolo County, California      5325.0  \n",
       "7986         Census Tract 401, Yuba County, California      4615.0  \n",
       "7987         Census Tract 402, Yuba County, California      7767.0  \n",
       "7988      Census Tract 403.01, Yuba County, California      3366.0  \n",
       "7989      Census Tract 403.02, Yuba County, California      2143.0  \n",
       "7990      Census Tract 403.03, Yuba County, California      6555.0  \n",
       "7991         Census Tract 404, Yuba County, California      5538.0  \n",
       "7992         Census Tract 405, Yuba County, California      4111.0  \n",
       "7993         Census Tract 406, Yuba County, California      6130.0  \n",
       "7994         Census Tract 407, Yuba County, California     10879.0  \n",
       "7995         Census Tract 408, Yuba County, California      4233.0  \n",
       "7996      Census Tract 409.01, Yuba County, California      2783.0  \n",
       "7997      Census Tract 409.02, Yuba County, California      1737.0  \n",
       "7998         Census Tract 410, Yuba County, California      7357.0  \n",
       "7999         Census Tract 411, Yuba County, California      4941.0  \n",
       "\n",
       "[7999 rows x 6 columns]"
      ]
     },
     "execution_count": 12,
     "metadata": {},
     "output_type": "execute_result"
    }
   ],
   "source": [
    "df[df['Population'].notnull()]"
   ]
  },
  {
   "cell_type": "markdown",
   "metadata": {},
   "source": [
    "Here we find and print records that are in El Dorado County, using the str attribute and 'contains' to search for the county name in geodisplay."
   ]
  },
  {
   "cell_type": "code",
   "execution_count": 13,
   "metadata": {
    "collapsed": false
   },
   "outputs": [
    {
     "data": {
      "text/html": [
       "<div>\n",
       "<table border=\"1\" class=\"dataframe\">\n",
       "  <thead>\n",
       "    <tr style=\"text-align: right;\">\n",
       "      <th></th>\n",
       "      <th>POPGROUP</th>\n",
       "      <th>label</th>\n",
       "      <th>GEOIDLONG</th>\n",
       "      <th>GEOID</th>\n",
       "      <th>geodisplay</th>\n",
       "      <th>Population</th>\n",
       "    </tr>\n",
       "  </thead>\n",
       "  <tbody>\n",
       "    <tr>\n",
       "      <th>648</th>\n",
       "      <td>1</td>\n",
       "      <td>Total population</td>\n",
       "      <td>1400000US06017030200</td>\n",
       "      <td>6017030200</td>\n",
       "      <td>Census Tract 302, El Dorado County, California</td>\n",
       "      <td>4773.0</td>\n",
       "    </tr>\n",
       "    <tr>\n",
       "      <th>649</th>\n",
       "      <td>1</td>\n",
       "      <td>Total population</td>\n",
       "      <td>1400000US06017030301</td>\n",
       "      <td>6017030301</td>\n",
       "      <td>Census Tract 303.01, El Dorado County, California</td>\n",
       "      <td>2469.0</td>\n",
       "    </tr>\n",
       "    <tr>\n",
       "      <th>650</th>\n",
       "      <td>1</td>\n",
       "      <td>Total population</td>\n",
       "      <td>1400000US06017030302</td>\n",
       "      <td>6017030302</td>\n",
       "      <td>Census Tract 303.02, El Dorado County, California</td>\n",
       "      <td>2867.0</td>\n",
       "    </tr>\n",
       "    <tr>\n",
       "      <th>651</th>\n",
       "      <td>1</td>\n",
       "      <td>Total population</td>\n",
       "      <td>1400000US06017030401</td>\n",
       "      <td>6017030401</td>\n",
       "      <td>Census Tract 304.01, El Dorado County, California</td>\n",
       "      <td>3498.0</td>\n",
       "    </tr>\n",
       "    <tr>\n",
       "      <th>652</th>\n",
       "      <td>1</td>\n",
       "      <td>Total population</td>\n",
       "      <td>1400000US06017030402</td>\n",
       "      <td>6017030402</td>\n",
       "      <td>Census Tract 304.02, El Dorado County, California</td>\n",
       "      <td>3723.0</td>\n",
       "    </tr>\n",
       "    <tr>\n",
       "      <th>653</th>\n",
       "      <td>1</td>\n",
       "      <td>Total population</td>\n",
       "      <td>1400000US06017030502</td>\n",
       "      <td>6017030502</td>\n",
       "      <td>Census Tract 305.02, El Dorado County, California</td>\n",
       "      <td>2641.0</td>\n",
       "    </tr>\n",
       "    <tr>\n",
       "      <th>654</th>\n",
       "      <td>1</td>\n",
       "      <td>Total population</td>\n",
       "      <td>1400000US06017030504</td>\n",
       "      <td>6017030504</td>\n",
       "      <td>Census Tract 305.04, El Dorado County, California</td>\n",
       "      <td>2912.0</td>\n",
       "    </tr>\n",
       "    <tr>\n",
       "      <th>655</th>\n",
       "      <td>1</td>\n",
       "      <td>Total population</td>\n",
       "      <td>1400000US06017030505</td>\n",
       "      <td>6017030505</td>\n",
       "      <td>Census Tract 305.05, El Dorado County, California</td>\n",
       "      <td>2704.0</td>\n",
       "    </tr>\n",
       "    <tr>\n",
       "      <th>656</th>\n",
       "      <td>1</td>\n",
       "      <td>Total population</td>\n",
       "      <td>1400000US06017030601</td>\n",
       "      <td>6017030601</td>\n",
       "      <td>Census Tract 306.01, El Dorado County, California</td>\n",
       "      <td>5044.0</td>\n",
       "    </tr>\n",
       "    <tr>\n",
       "      <th>657</th>\n",
       "      <td>1</td>\n",
       "      <td>Total population</td>\n",
       "      <td>1400000US06017030602</td>\n",
       "      <td>6017030602</td>\n",
       "      <td>Census Tract 306.02, El Dorado County, California</td>\n",
       "      <td>6781.0</td>\n",
       "    </tr>\n",
       "    <tr>\n",
       "      <th>658</th>\n",
       "      <td>1</td>\n",
       "      <td>Total population</td>\n",
       "      <td>1400000US06017030603</td>\n",
       "      <td>6017030603</td>\n",
       "      <td>Census Tract 306.03, El Dorado County, California</td>\n",
       "      <td>3566.0</td>\n",
       "    </tr>\n",
       "    <tr>\n",
       "      <th>659</th>\n",
       "      <td>1</td>\n",
       "      <td>Total population</td>\n",
       "      <td>1400000US06017030701</td>\n",
       "      <td>6017030701</td>\n",
       "      <td>Census Tract 307.01, El Dorado County, California</td>\n",
       "      <td>6205.0</td>\n",
       "    </tr>\n",
       "    <tr>\n",
       "      <th>660</th>\n",
       "      <td>1</td>\n",
       "      <td>Total population</td>\n",
       "      <td>1400000US06017030704</td>\n",
       "      <td>6017030704</td>\n",
       "      <td>Census Tract 307.04, El Dorado County, California</td>\n",
       "      <td>5961.0</td>\n",
       "    </tr>\n",
       "    <tr>\n",
       "      <th>661</th>\n",
       "      <td>1</td>\n",
       "      <td>Total population</td>\n",
       "      <td>1400000US06017030706</td>\n",
       "      <td>6017030706</td>\n",
       "      <td>Census Tract 307.06, El Dorado County, California</td>\n",
       "      <td>6020.0</td>\n",
       "    </tr>\n",
       "    <tr>\n",
       "      <th>662</th>\n",
       "      <td>1</td>\n",
       "      <td>Total population</td>\n",
       "      <td>1400000US06017030709</td>\n",
       "      <td>6017030709</td>\n",
       "      <td>Census Tract 307.09, El Dorado County, California</td>\n",
       "      <td>4806.0</td>\n",
       "    </tr>\n",
       "    <tr>\n",
       "      <th>663</th>\n",
       "      <td>1</td>\n",
       "      <td>Total population</td>\n",
       "      <td>1400000US06017030710</td>\n",
       "      <td>6017030710</td>\n",
       "      <td>Census Tract 307.10, El Dorado County, California</td>\n",
       "      <td>4989.0</td>\n",
       "    </tr>\n",
       "    <tr>\n",
       "      <th>664</th>\n",
       "      <td>1</td>\n",
       "      <td>Total population</td>\n",
       "      <td>1400000US06017030801</td>\n",
       "      <td>6017030801</td>\n",
       "      <td>Census Tract 308.01, El Dorado County, California</td>\n",
       "      <td>4011.0</td>\n",
       "    </tr>\n",
       "    <tr>\n",
       "      <th>665</th>\n",
       "      <td>1</td>\n",
       "      <td>Total population</td>\n",
       "      <td>1400000US06017030803</td>\n",
       "      <td>6017030803</td>\n",
       "      <td>Census Tract 308.03, El Dorado County, California</td>\n",
       "      <td>7241.0</td>\n",
       "    </tr>\n",
       "    <tr>\n",
       "      <th>666</th>\n",
       "      <td>1</td>\n",
       "      <td>Total population</td>\n",
       "      <td>1400000US06017030804</td>\n",
       "      <td>6017030804</td>\n",
       "      <td>Census Tract 308.04, El Dorado County, California</td>\n",
       "      <td>6377.0</td>\n",
       "    </tr>\n",
       "    <tr>\n",
       "      <th>667</th>\n",
       "      <td>1</td>\n",
       "      <td>Total population</td>\n",
       "      <td>1400000US06017030807</td>\n",
       "      <td>6017030807</td>\n",
       "      <td>Census Tract 308.07, El Dorado County, California</td>\n",
       "      <td>3986.0</td>\n",
       "    </tr>\n",
       "    <tr>\n",
       "      <th>668</th>\n",
       "      <td>1</td>\n",
       "      <td>Total population</td>\n",
       "      <td>1400000US06017030808</td>\n",
       "      <td>6017030808</td>\n",
       "      <td>Census Tract 308.08, El Dorado County, California</td>\n",
       "      <td>6897.0</td>\n",
       "    </tr>\n",
       "    <tr>\n",
       "      <th>669</th>\n",
       "      <td>1</td>\n",
       "      <td>Total population</td>\n",
       "      <td>1400000US06017030809</td>\n",
       "      <td>6017030809</td>\n",
       "      <td>Census Tract 308.09, El Dorado County, California</td>\n",
       "      <td>2447.0</td>\n",
       "    </tr>\n",
       "    <tr>\n",
       "      <th>670</th>\n",
       "      <td>1</td>\n",
       "      <td>Total population</td>\n",
       "      <td>1400000US06017030810</td>\n",
       "      <td>6017030810</td>\n",
       "      <td>Census Tract 308.10, El Dorado County, California</td>\n",
       "      <td>3437.0</td>\n",
       "    </tr>\n",
       "    <tr>\n",
       "      <th>671</th>\n",
       "      <td>1</td>\n",
       "      <td>Total population</td>\n",
       "      <td>1400000US06017030901</td>\n",
       "      <td>6017030901</td>\n",
       "      <td>Census Tract 309.01, El Dorado County, California</td>\n",
       "      <td>3020.0</td>\n",
       "    </tr>\n",
       "    <tr>\n",
       "      <th>672</th>\n",
       "      <td>1</td>\n",
       "      <td>Total population</td>\n",
       "      <td>1400000US06017030902</td>\n",
       "      <td>6017030902</td>\n",
       "      <td>Census Tract 309.02, El Dorado County, California</td>\n",
       "      <td>4687.0</td>\n",
       "    </tr>\n",
       "    <tr>\n",
       "      <th>673</th>\n",
       "      <td>1</td>\n",
       "      <td>Total population</td>\n",
       "      <td>1400000US06017031000</td>\n",
       "      <td>6017031000</td>\n",
       "      <td>Census Tract 310, El Dorado County, California</td>\n",
       "      <td>6061.0</td>\n",
       "    </tr>\n",
       "    <tr>\n",
       "      <th>674</th>\n",
       "      <td>1</td>\n",
       "      <td>Total population</td>\n",
       "      <td>1400000US06017031100</td>\n",
       "      <td>6017031100</td>\n",
       "      <td>Census Tract 311, El Dorado County, California</td>\n",
       "      <td>5462.0</td>\n",
       "    </tr>\n",
       "    <tr>\n",
       "      <th>675</th>\n",
       "      <td>1</td>\n",
       "      <td>Total population</td>\n",
       "      <td>1400000US06017031200</td>\n",
       "      <td>6017031200</td>\n",
       "      <td>Census Tract 312, El Dorado County, California</td>\n",
       "      <td>5193.0</td>\n",
       "    </tr>\n",
       "    <tr>\n",
       "      <th>676</th>\n",
       "      <td>1</td>\n",
       "      <td>Total population</td>\n",
       "      <td>1400000US06017031301</td>\n",
       "      <td>6017031301</td>\n",
       "      <td>Census Tract 313.01, El Dorado County, California</td>\n",
       "      <td>3408.0</td>\n",
       "    </tr>\n",
       "    <tr>\n",
       "      <th>677</th>\n",
       "      <td>1</td>\n",
       "      <td>Total population</td>\n",
       "      <td>1400000US06017031302</td>\n",
       "      <td>6017031302</td>\n",
       "      <td>Census Tract 313.02, El Dorado County, California</td>\n",
       "      <td>4701.0</td>\n",
       "    </tr>\n",
       "    <tr>\n",
       "      <th>678</th>\n",
       "      <td>1</td>\n",
       "      <td>Total population</td>\n",
       "      <td>1400000US06017031402</td>\n",
       "      <td>6017031402</td>\n",
       "      <td>Census Tract 314.02, El Dorado County, California</td>\n",
       "      <td>5896.0</td>\n",
       "    </tr>\n",
       "    <tr>\n",
       "      <th>679</th>\n",
       "      <td>1</td>\n",
       "      <td>Total population</td>\n",
       "      <td>1400000US06017031404</td>\n",
       "      <td>6017031404</td>\n",
       "      <td>Census Tract 314.04, El Dorado County, California</td>\n",
       "      <td>2407.0</td>\n",
       "    </tr>\n",
       "    <tr>\n",
       "      <th>680</th>\n",
       "      <td>1</td>\n",
       "      <td>Total population</td>\n",
       "      <td>1400000US06017031405</td>\n",
       "      <td>6017031405</td>\n",
       "      <td>Census Tract 314.05, El Dorado County, California</td>\n",
       "      <td>2426.0</td>\n",
       "    </tr>\n",
       "    <tr>\n",
       "      <th>681</th>\n",
       "      <td>1</td>\n",
       "      <td>Total population</td>\n",
       "      <td>1400000US06017031406</td>\n",
       "      <td>6017031406</td>\n",
       "      <td>Census Tract 314.06, El Dorado County, California</td>\n",
       "      <td>5544.0</td>\n",
       "    </tr>\n",
       "    <tr>\n",
       "      <th>682</th>\n",
       "      <td>1</td>\n",
       "      <td>Total population</td>\n",
       "      <td>1400000US06017031502</td>\n",
       "      <td>6017031502</td>\n",
       "      <td>Census Tract 315.02, El Dorado County, California</td>\n",
       "      <td>6031.0</td>\n",
       "    </tr>\n",
       "    <tr>\n",
       "      <th>683</th>\n",
       "      <td>1</td>\n",
       "      <td>Total population</td>\n",
       "      <td>1400000US06017031503</td>\n",
       "      <td>6017031503</td>\n",
       "      <td>Census Tract 315.03, El Dorado County, California</td>\n",
       "      <td>2810.0</td>\n",
       "    </tr>\n",
       "    <tr>\n",
       "      <th>684</th>\n",
       "      <td>1</td>\n",
       "      <td>Total population</td>\n",
       "      <td>1400000US06017031504</td>\n",
       "      <td>6017031504</td>\n",
       "      <td>Census Tract 315.04, El Dorado County, California</td>\n",
       "      <td>5337.0</td>\n",
       "    </tr>\n",
       "    <tr>\n",
       "      <th>685</th>\n",
       "      <td>1</td>\n",
       "      <td>Total population</td>\n",
       "      <td>1400000US06017031600</td>\n",
       "      <td>6017031600</td>\n",
       "      <td>Census Tract 316, El Dorado County, California</td>\n",
       "      <td>4126.0</td>\n",
       "    </tr>\n",
       "    <tr>\n",
       "      <th>686</th>\n",
       "      <td>1</td>\n",
       "      <td>Total population</td>\n",
       "      <td>1400000US06017031700</td>\n",
       "      <td>6017031700</td>\n",
       "      <td>Census Tract 317, El Dorado County, California</td>\n",
       "      <td>2648.0</td>\n",
       "    </tr>\n",
       "    <tr>\n",
       "      <th>687</th>\n",
       "      <td>1</td>\n",
       "      <td>Total population</td>\n",
       "      <td>1400000US06017031800</td>\n",
       "      <td>6017031800</td>\n",
       "      <td>Census Tract 318, El Dorado County, California</td>\n",
       "      <td>6798.0</td>\n",
       "    </tr>\n",
       "    <tr>\n",
       "      <th>688</th>\n",
       "      <td>1</td>\n",
       "      <td>Total population</td>\n",
       "      <td>1400000US06017031900</td>\n",
       "      <td>6017031900</td>\n",
       "      <td>Census Tract 319, El Dorado County, California</td>\n",
       "      <td>NaN</td>\n",
       "    </tr>\n",
       "    <tr>\n",
       "      <th>689</th>\n",
       "      <td>1</td>\n",
       "      <td>Total population</td>\n",
       "      <td>1400000US06017032000</td>\n",
       "      <td>6017032000</td>\n",
       "      <td>Census Tract 320, El Dorado County, California</td>\n",
       "      <td>1015.0</td>\n",
       "    </tr>\n",
       "  </tbody>\n",
       "</table>\n",
       "</div>"
      ],
      "text/plain": [
       "     POPGROUP             label             GEOIDLONG       GEOID  \\\n",
       "648         1  Total population  1400000US06017030200  6017030200   \n",
       "649         1  Total population  1400000US06017030301  6017030301   \n",
       "650         1  Total population  1400000US06017030302  6017030302   \n",
       "651         1  Total population  1400000US06017030401  6017030401   \n",
       "652         1  Total population  1400000US06017030402  6017030402   \n",
       "653         1  Total population  1400000US06017030502  6017030502   \n",
       "654         1  Total population  1400000US06017030504  6017030504   \n",
       "655         1  Total population  1400000US06017030505  6017030505   \n",
       "656         1  Total population  1400000US06017030601  6017030601   \n",
       "657         1  Total population  1400000US06017030602  6017030602   \n",
       "658         1  Total population  1400000US06017030603  6017030603   \n",
       "659         1  Total population  1400000US06017030701  6017030701   \n",
       "660         1  Total population  1400000US06017030704  6017030704   \n",
       "661         1  Total population  1400000US06017030706  6017030706   \n",
       "662         1  Total population  1400000US06017030709  6017030709   \n",
       "663         1  Total population  1400000US06017030710  6017030710   \n",
       "664         1  Total population  1400000US06017030801  6017030801   \n",
       "665         1  Total population  1400000US06017030803  6017030803   \n",
       "666         1  Total population  1400000US06017030804  6017030804   \n",
       "667         1  Total population  1400000US06017030807  6017030807   \n",
       "668         1  Total population  1400000US06017030808  6017030808   \n",
       "669         1  Total population  1400000US06017030809  6017030809   \n",
       "670         1  Total population  1400000US06017030810  6017030810   \n",
       "671         1  Total population  1400000US06017030901  6017030901   \n",
       "672         1  Total population  1400000US06017030902  6017030902   \n",
       "673         1  Total population  1400000US06017031000  6017031000   \n",
       "674         1  Total population  1400000US06017031100  6017031100   \n",
       "675         1  Total population  1400000US06017031200  6017031200   \n",
       "676         1  Total population  1400000US06017031301  6017031301   \n",
       "677         1  Total population  1400000US06017031302  6017031302   \n",
       "678         1  Total population  1400000US06017031402  6017031402   \n",
       "679         1  Total population  1400000US06017031404  6017031404   \n",
       "680         1  Total population  1400000US06017031405  6017031405   \n",
       "681         1  Total population  1400000US06017031406  6017031406   \n",
       "682         1  Total population  1400000US06017031502  6017031502   \n",
       "683         1  Total population  1400000US06017031503  6017031503   \n",
       "684         1  Total population  1400000US06017031504  6017031504   \n",
       "685         1  Total population  1400000US06017031600  6017031600   \n",
       "686         1  Total population  1400000US06017031700  6017031700   \n",
       "687         1  Total population  1400000US06017031800  6017031800   \n",
       "688         1  Total population  1400000US06017031900  6017031900   \n",
       "689         1  Total population  1400000US06017032000  6017032000   \n",
       "\n",
       "                                            geodisplay  Population  \n",
       "648     Census Tract 302, El Dorado County, California      4773.0  \n",
       "649  Census Tract 303.01, El Dorado County, California      2469.0  \n",
       "650  Census Tract 303.02, El Dorado County, California      2867.0  \n",
       "651  Census Tract 304.01, El Dorado County, California      3498.0  \n",
       "652  Census Tract 304.02, El Dorado County, California      3723.0  \n",
       "653  Census Tract 305.02, El Dorado County, California      2641.0  \n",
       "654  Census Tract 305.04, El Dorado County, California      2912.0  \n",
       "655  Census Tract 305.05, El Dorado County, California      2704.0  \n",
       "656  Census Tract 306.01, El Dorado County, California      5044.0  \n",
       "657  Census Tract 306.02, El Dorado County, California      6781.0  \n",
       "658  Census Tract 306.03, El Dorado County, California      3566.0  \n",
       "659  Census Tract 307.01, El Dorado County, California      6205.0  \n",
       "660  Census Tract 307.04, El Dorado County, California      5961.0  \n",
       "661  Census Tract 307.06, El Dorado County, California      6020.0  \n",
       "662  Census Tract 307.09, El Dorado County, California      4806.0  \n",
       "663  Census Tract 307.10, El Dorado County, California      4989.0  \n",
       "664  Census Tract 308.01, El Dorado County, California      4011.0  \n",
       "665  Census Tract 308.03, El Dorado County, California      7241.0  \n",
       "666  Census Tract 308.04, El Dorado County, California      6377.0  \n",
       "667  Census Tract 308.07, El Dorado County, California      3986.0  \n",
       "668  Census Tract 308.08, El Dorado County, California      6897.0  \n",
       "669  Census Tract 308.09, El Dorado County, California      2447.0  \n",
       "670  Census Tract 308.10, El Dorado County, California      3437.0  \n",
       "671  Census Tract 309.01, El Dorado County, California      3020.0  \n",
       "672  Census Tract 309.02, El Dorado County, California      4687.0  \n",
       "673     Census Tract 310, El Dorado County, California      6061.0  \n",
       "674     Census Tract 311, El Dorado County, California      5462.0  \n",
       "675     Census Tract 312, El Dorado County, California      5193.0  \n",
       "676  Census Tract 313.01, El Dorado County, California      3408.0  \n",
       "677  Census Tract 313.02, El Dorado County, California      4701.0  \n",
       "678  Census Tract 314.02, El Dorado County, California      5896.0  \n",
       "679  Census Tract 314.04, El Dorado County, California      2407.0  \n",
       "680  Census Tract 314.05, El Dorado County, California      2426.0  \n",
       "681  Census Tract 314.06, El Dorado County, California      5544.0  \n",
       "682  Census Tract 315.02, El Dorado County, California      6031.0  \n",
       "683  Census Tract 315.03, El Dorado County, California      2810.0  \n",
       "684  Census Tract 315.04, El Dorado County, California      5337.0  \n",
       "685     Census Tract 316, El Dorado County, California      4126.0  \n",
       "686     Census Tract 317, El Dorado County, California      2648.0  \n",
       "687     Census Tract 318, El Dorado County, California      6798.0  \n",
       "688     Census Tract 319, El Dorado County, California         NaN  \n",
       "689     Census Tract 320, El Dorado County, California      1015.0  "
      ]
     },
     "execution_count": 13,
     "metadata": {},
     "output_type": "execute_result"
    }
   ],
   "source": [
    "df[df['geodisplay'].str.contains('El Dorado County')]"
   ]
  },
  {
   "cell_type": "markdown",
   "metadata": {},
   "source": [
    "We can find the unique values of a column (not very interesting in this particular case)"
   ]
  },
  {
   "cell_type": "code",
   "execution_count": 14,
   "metadata": {
    "collapsed": false
   },
   "outputs": [
    {
     "data": {
      "text/plain": [
       "array([1], dtype=int64)"
      ]
     },
     "execution_count": 14,
     "metadata": {},
     "output_type": "execute_result"
    }
   ],
   "source": [
    "df['POPGROUP'].unique()"
   ]
  },
  {
   "cell_type": "markdown",
   "metadata": {},
   "source": [
    "And count how many times each unique value is in the data"
   ]
  },
  {
   "cell_type": "code",
   "execution_count": 15,
   "metadata": {
    "collapsed": false
   },
   "outputs": [
    {
     "data": {
      "text/plain": [
       "1    8000\n",
       "Name: POPGROUP, dtype: int64"
      ]
     },
     "execution_count": 15,
     "metadata": {},
     "output_type": "execute_result"
    }
   ],
   "source": [
    "df['POPGROUP'].value_counts()"
   ]
  },
  {
   "cell_type": "markdown",
   "metadata": {},
   "source": [
    "We saw last time how to use the str attribute to do string manipulation, such as to create a new column.  We need to explore some more advanced string processing, but let's use a smaller dataframe for that."
   ]
  },
  {
   "cell_type": "code",
   "execution_count": 16,
   "metadata": {
    "collapsed": false
   },
   "outputs": [
    {
     "data": {
      "text/html": [
       "<div>\n",
       "<table border=\"1\" class=\"dataframe\">\n",
       "  <thead>\n",
       "    <tr style=\"text-align: right;\">\n",
       "      <th></th>\n",
       "      <th>POPGROUP</th>\n",
       "      <th>label</th>\n",
       "      <th>GEOIDLONG</th>\n",
       "      <th>GEOID</th>\n",
       "      <th>geodisplay</th>\n",
       "      <th>Population</th>\n",
       "      <th>state</th>\n",
       "    </tr>\n",
       "  </thead>\n",
       "  <tbody>\n",
       "    <tr>\n",
       "      <th>0</th>\n",
       "      <td>1</td>\n",
       "      <td>Total population</td>\n",
       "      <td>1400000US06001400100</td>\n",
       "      <td>6001400100</td>\n",
       "      <td>Census Tract 4001, Alameda County, California</td>\n",
       "      <td>2937.0</td>\n",
       "      <td>California</td>\n",
       "    </tr>\n",
       "    <tr>\n",
       "      <th>1</th>\n",
       "      <td>1</td>\n",
       "      <td>Total population</td>\n",
       "      <td>1400000US06001400200</td>\n",
       "      <td>6001400200</td>\n",
       "      <td>Census Tract 4002, Alameda County, California</td>\n",
       "      <td>1974.0</td>\n",
       "      <td>California</td>\n",
       "    </tr>\n",
       "    <tr>\n",
       "      <th>2</th>\n",
       "      <td>1</td>\n",
       "      <td>Total population</td>\n",
       "      <td>1400000US06001400300</td>\n",
       "      <td>6001400300</td>\n",
       "      <td>Census Tract 4003, Alameda County, California</td>\n",
       "      <td>4865.0</td>\n",
       "      <td>California</td>\n",
       "    </tr>\n",
       "    <tr>\n",
       "      <th>3</th>\n",
       "      <td>1</td>\n",
       "      <td>Total population</td>\n",
       "      <td>1400000US06001400400</td>\n",
       "      <td>6001400400</td>\n",
       "      <td>Census Tract 4004, Alameda County, California</td>\n",
       "      <td>3703.0</td>\n",
       "      <td>California</td>\n",
       "    </tr>\n",
       "    <tr>\n",
       "      <th>4</th>\n",
       "      <td>1</td>\n",
       "      <td>Total population</td>\n",
       "      <td>1400000US06001400500</td>\n",
       "      <td>6001400500</td>\n",
       "      <td>Census Tract 4005, Alameda County, California</td>\n",
       "      <td>3517.0</td>\n",
       "      <td>California</td>\n",
       "    </tr>\n",
       "  </tbody>\n",
       "</table>\n",
       "</div>"
      ],
      "text/plain": [
       "   POPGROUP             label             GEOIDLONG       GEOID  \\\n",
       "0         1  Total population  1400000US06001400100  6001400100   \n",
       "1         1  Total population  1400000US06001400200  6001400200   \n",
       "2         1  Total population  1400000US06001400300  6001400300   \n",
       "3         1  Total population  1400000US06001400400  6001400400   \n",
       "4         1  Total population  1400000US06001400500  6001400500   \n",
       "\n",
       "                                      geodisplay  Population        state  \n",
       "0  Census Tract 4001, Alameda County, California      2937.0   California  \n",
       "1  Census Tract 4002, Alameda County, California      1974.0   California  \n",
       "2  Census Tract 4003, Alameda County, California      4865.0   California  \n",
       "3  Census Tract 4004, Alameda County, California      3703.0   California  \n",
       "4  Census Tract 4005, Alameda County, California      3517.0   California  "
      ]
     },
     "execution_count": 16,
     "metadata": {},
     "output_type": "execute_result"
    }
   ],
   "source": [
    "df['state'] = df['geodisplay'].str.split(',').str[2]\n",
    "df[:5]"
   ]
  },
  {
   "cell_type": "markdown",
   "metadata": {},
   "source": [
    "### More complex use of Indexing and String Manipulation -- Cleaning the Bedroom Field in the Craigslist data"
   ]
  },
  {
   "cell_type": "code",
   "execution_count": 19,
   "metadata": {
    "collapsed": false
   },
   "outputs": [
    {
     "data": {
      "text/html": [
       "<div>\n",
       "<table border=\"1\" class=\"dataframe\">\n",
       "  <thead>\n",
       "    <tr style=\"text-align: right;\">\n",
       "      <th></th>\n",
       "      <th>neighborhood</th>\n",
       "      <th>title</th>\n",
       "      <th>price</th>\n",
       "      <th>bedrooms</th>\n",
       "      <th>pid</th>\n",
       "      <th>longitude</th>\n",
       "      <th>date</th>\n",
       "      <th>link</th>\n",
       "      <th>latitude</th>\n",
       "      <th>sqft</th>\n",
       "      <th>sourcepage</th>\n",
       "    </tr>\n",
       "  </thead>\n",
       "  <tbody>\n",
       "    <tr>\n",
       "      <th>0</th>\n",
       "      <td>(SOMA / south beach)</td>\n",
       "      <td>1bed + Den, 1bath at Mission Bay</td>\n",
       "      <td>$2895</td>\n",
       "      <td>/ 1br - 950ft² -</td>\n",
       "      <td>4046628359</td>\n",
       "      <td>-122.399663</td>\n",
       "      <td>Sep  4 2013</td>\n",
       "      <td>/sfc/apa/4046628359.html</td>\n",
       "      <td>37.774623</td>\n",
       "      <td>/ 1br - 950ft² -</td>\n",
       "      <td>http://sfbay.craigslist.org/sfc/apa/</td>\n",
       "    </tr>\n",
       "    <tr>\n",
       "      <th>1</th>\n",
       "      <td>(SOMA / south beach)</td>\n",
       "      <td>Love where you live!</td>\n",
       "      <td>$3354</td>\n",
       "      <td>/ 1br - 710ft² -</td>\n",
       "      <td>4046761563</td>\n",
       "      <td>NaN</td>\n",
       "      <td>Sep  4 2013</td>\n",
       "      <td>/sfc/apa/4046761563.html</td>\n",
       "      <td>NaN</td>\n",
       "      <td>/ 1br - 710ft² -</td>\n",
       "      <td>http://sfbay.craigslist.org/sfc/apa/</td>\n",
       "    </tr>\n",
       "    <tr>\n",
       "      <th>2</th>\n",
       "      <td>(inner sunset / UCSF)</td>\n",
       "      <td>We Welcome Your Furry Friends! Call Today!</td>\n",
       "      <td>$2865</td>\n",
       "      <td>/ 1br - 644ft² -</td>\n",
       "      <td>4046661504</td>\n",
       "      <td>-122.470727</td>\n",
       "      <td>Sep  4 2013</td>\n",
       "      <td>/sfc/apa/4046661504.html</td>\n",
       "      <td>37.765739</td>\n",
       "      <td>/ 1br - 644ft² -</td>\n",
       "      <td>http://sfbay.craigslist.org/sfc/apa/</td>\n",
       "    </tr>\n",
       "    <tr>\n",
       "      <th>3</th>\n",
       "      <td>(financial district)</td>\n",
       "      <td>Golden Gateway Commons | 2BR + office townhous...</td>\n",
       "      <td>$5500</td>\n",
       "      <td>/ 2br - 1450ft² -</td>\n",
       "      <td>4036170429</td>\n",
       "      <td>NaN</td>\n",
       "      <td>Sep  4 2013</td>\n",
       "      <td>/sfc/apa/4036170429.html</td>\n",
       "      <td>NaN</td>\n",
       "      <td>/ 2br - 1450ft² -</td>\n",
       "      <td>http://sfbay.craigslist.org/sfc/apa/</td>\n",
       "    </tr>\n",
       "    <tr>\n",
       "      <th>4</th>\n",
       "      <td>(lower nob hill)</td>\n",
       "      <td>Experience Luxury Living in San Fransisco!</td>\n",
       "      <td>$3892</td>\n",
       "      <td>/ 2br -</td>\n",
       "      <td>4046732678</td>\n",
       "      <td>NaN</td>\n",
       "      <td>Sep  4 2013</td>\n",
       "      <td>/sfc/apa/4046732678.html</td>\n",
       "      <td>NaN</td>\n",
       "      <td>/ 2br -</td>\n",
       "      <td>http://sfbay.craigslist.org/sfc/apa/</td>\n",
       "    </tr>\n",
       "  </tbody>\n",
       "</table>\n",
       "</div>"
      ],
      "text/plain": [
       "             neighborhood                                              title  \\\n",
       "0    (SOMA / south beach)                   1bed + Den, 1bath at Mission Bay   \n",
       "1    (SOMA / south beach)                               Love where you live!   \n",
       "2   (inner sunset / UCSF)         We Welcome Your Furry Friends! Call Today!   \n",
       "3    (financial district)  Golden Gateway Commons | 2BR + office townhous...   \n",
       "4        (lower nob hill)         Experience Luxury Living in San Fransisco!   \n",
       "\n",
       "   price                  bedrooms         pid   longitude         date  \\\n",
       "0  $2895      / 1br - 950ft² -      4046628359 -122.399663  Sep  4 2013   \n",
       "1  $3354      / 1br - 710ft² -      4046761563         NaN  Sep  4 2013   \n",
       "2  $2865      / 1br - 644ft² -      4046661504 -122.470727  Sep  4 2013   \n",
       "3  $5500     / 2br - 1450ft² -      4036170429         NaN  Sep  4 2013   \n",
       "4  $3892               / 2br -      4046732678         NaN  Sep  4 2013   \n",
       "\n",
       "                       link   latitude                      sqft  \\\n",
       "0  /sfc/apa/4046628359.html  37.774623      / 1br - 950ft² -       \n",
       "1  /sfc/apa/4046761563.html        NaN      / 1br - 710ft² -       \n",
       "2  /sfc/apa/4046661504.html  37.765739      / 1br - 644ft² -       \n",
       "3  /sfc/apa/4036170429.html        NaN     / 2br - 1450ft² -       \n",
       "4  /sfc/apa/4046732678.html        NaN               / 2br -       \n",
       "\n",
       "                             sourcepage  \n",
       "0  http://sfbay.craigslist.org/sfc/apa/  \n",
       "1  http://sfbay.craigslist.org/sfc/apa/  \n",
       "2  http://sfbay.craigslist.org/sfc/apa/  \n",
       "3  http://sfbay.craigslist.org/sfc/apa/  \n",
       "4  http://sfbay.craigslist.org/sfc/apa/  "
      ]
     },
     "execution_count": 19,
     "metadata": {},
     "output_type": "execute_result"
    }
   ],
   "source": [
    "import re as re, pandas as pd, numpy as np\n",
    "cl = pd.read_csv('items.csv')\n",
    "cl.head()"
   ]
  },
  {
   "cell_type": "markdown",
   "metadata": {},
   "source": [
    "This is a worked part of your assignment for this week.  Here is a code snippet that uses some of what we just learned above, and extends it to clean the bedroom field in this data.  Adapting it to clean sqft remains for you to do in the assignment..."
   ]
  },
  {
   "cell_type": "code",
   "execution_count": 20,
   "metadata": {
    "collapsed": false
   },
   "outputs": [
    {
     "data": {
      "text/plain": [
       "0      1\n",
       "1      1\n",
       "2      1\n",
       "3      2\n",
       "4      2\n",
       "5      1\n",
       "6    NaN\n",
       "7      1\n",
       "8      2\n",
       "Name: bedrooms, dtype: object"
      ]
     },
     "execution_count": 20,
     "metadata": {},
     "output_type": "execute_result"
    }
   ],
   "source": [
    "for label in cl.bedrooms.index:\n",
    "    if isinstance(cl.bedrooms[label], str) and not pd.isnull(cl.bedrooms[label]):\n",
    "        end = cl.bedrooms[label].find('br')\n",
    "        if end == -1:\n",
    "            cl.loc[label,'bedrooms'] = np.nan\n",
    "        else:\n",
    "            start = cl.bedrooms[label].find('/ ') + 2\n",
    "            cl.loc[label,'bedrooms'] = int(cl.bedrooms[label][start: end])\n",
    "cl.bedrooms.head(9)"
   ]
  },
  {
   "cell_type": "markdown",
   "metadata": {},
   "source": [
    "## Working with Pandas -- an in-class working session"
   ]
  },
  {
   "cell_type": "markdown",
   "metadata": {},
   "source": [
    "OK, let's create a DataFrame from a dictionary, following the example on pg 116 of Python for Data Analysis (PDA)."
   ]
  },
  {
   "cell_type": "code",
   "execution_count": 21,
   "metadata": {
    "collapsed": false
   },
   "outputs": [],
   "source": [
    "data = {'state': ['Ohio', 'Ohio', 'Ohio', 'Nevada', 'Nevada'], 'year': [2000, 2001, 2002, 2001, 2002],\n",
    "'pop': [1.5, 1.7, 3.6, 2.4, 2.9]}\n",
    "df = DataFrame(data)"
   ]
  },
  {
   "cell_type": "markdown",
   "metadata": {},
   "source": [
    "Explain the contents and structure of 'data'\n",
    "\n",
    "What does 'DataFrame(data)' do? What if we did not begin that line with 'df ='?\n",
    "\n",
    "Look at the contents of df, using just df by itself, and 'print df'.  "
   ]
  },
  {
   "cell_type": "code",
   "execution_count": 22,
   "metadata": {
    "collapsed": false
   },
   "outputs": [
    {
     "data": {
      "text/html": [
       "<div>\n",
       "<table border=\"1\" class=\"dataframe\">\n",
       "  <thead>\n",
       "    <tr style=\"text-align: right;\">\n",
       "      <th></th>\n",
       "      <th>pop</th>\n",
       "      <th>state</th>\n",
       "      <th>year</th>\n",
       "    </tr>\n",
       "  </thead>\n",
       "  <tbody>\n",
       "    <tr>\n",
       "      <th>0</th>\n",
       "      <td>1.5</td>\n",
       "      <td>Ohio</td>\n",
       "      <td>2000</td>\n",
       "    </tr>\n",
       "    <tr>\n",
       "      <th>1</th>\n",
       "      <td>1.7</td>\n",
       "      <td>Ohio</td>\n",
       "      <td>2001</td>\n",
       "    </tr>\n",
       "    <tr>\n",
       "      <th>2</th>\n",
       "      <td>3.6</td>\n",
       "      <td>Ohio</td>\n",
       "      <td>2002</td>\n",
       "    </tr>\n",
       "    <tr>\n",
       "      <th>3</th>\n",
       "      <td>2.4</td>\n",
       "      <td>Nevada</td>\n",
       "      <td>2001</td>\n",
       "    </tr>\n",
       "    <tr>\n",
       "      <th>4</th>\n",
       "      <td>2.9</td>\n",
       "      <td>Nevada</td>\n",
       "      <td>2002</td>\n",
       "    </tr>\n",
       "  </tbody>\n",
       "</table>\n",
       "</div>"
      ],
      "text/plain": [
       "   pop   state  year\n",
       "0  1.5    Ohio  2000\n",
       "1  1.7    Ohio  2001\n",
       "2  3.6    Ohio  2002\n",
       "3  2.4  Nevada  2001\n",
       "4  2.9  Nevada  2002"
      ]
     },
     "execution_count": 22,
     "metadata": {},
     "output_type": "execute_result"
    }
   ],
   "source": [
    "df"
   ]
  },
  {
   "cell_type": "markdown",
   "metadata": {},
   "source": [
    "We can refer to a column in two ways:"
   ]
  },
  {
   "cell_type": "code",
   "execution_count": 23,
   "metadata": {
    "collapsed": false
   },
   "outputs": [
    {
     "data": {
      "text/plain": [
       "0      Ohio\n",
       "1      Ohio\n",
       "2      Ohio\n",
       "3    Nevada\n",
       "4    Nevada\n",
       "Name: state, dtype: object"
      ]
     },
     "execution_count": 23,
     "metadata": {},
     "output_type": "execute_result"
    }
   ],
   "source": [
    "df['state']"
   ]
  },
  {
   "cell_type": "code",
   "execution_count": 24,
   "metadata": {
    "collapsed": false
   },
   "outputs": [
    {
     "data": {
      "text/plain": [
       "0      Ohio\n",
       "1      Ohio\n",
       "2      Ohio\n",
       "3    Nevada\n",
       "4    Nevada\n",
       "Name: state, dtype: object"
      ]
     },
     "execution_count": 24,
     "metadata": {},
     "output_type": "execute_result"
    }
   ],
   "source": [
    "df.state"
   ]
  },
  {
   "cell_type": "markdown",
   "metadata": {},
   "source": [
    "We can step through the rows in a dataframe"
   ]
  },
  {
   "cell_type": "code",
   "execution_count": 25,
   "metadata": {
    "collapsed": false
   },
   "outputs": [
    {
     "name": "stdout",
     "output_type": "stream",
     "text": [
      "Ohio\n",
      "Ohio\n",
      "Ohio\n",
      "Nevada\n",
      "Nevada\n"
     ]
    }
   ],
   "source": [
    "for label in df.state.index:\n",
    "    print(df.state[label])"
   ]
  },
  {
   "cell_type": "markdown",
   "metadata": {},
   "source": [
    "And find the index value within each entry of a specific substring"
   ]
  },
  {
   "cell_type": "code",
   "execution_count": 26,
   "metadata": {
    "collapsed": false
   },
   "outputs": [
    {
     "name": "stdout",
     "output_type": "stream",
     "text": [
      "2\n",
      "2\n",
      "2\n",
      "-1\n",
      "-1\n"
     ]
    }
   ],
   "source": [
    "for label in df.state.index:\n",
    "    print(df.state[label].find('io'))"
   ]
  },
  {
   "cell_type": "code",
   "execution_count": 27,
   "metadata": {
    "collapsed": false
   },
   "outputs": [
    {
     "name": "stdout",
     "output_type": "stream",
     "text": [
      "Ohio\n",
      "Ohio\n",
      "Ohio\n",
      "Missing\n",
      "Missing\n"
     ]
    }
   ],
   "source": [
    "for label in df.state.index:\n",
    "    if df.state[label]=='Ohio':\n",
    "        print(df.state[label])\n",
    "    else:\n",
    "        print('Missing')"
   ]
  },
  {
   "cell_type": "markdown",
   "metadata": {},
   "source": [
    "## Now Your Turn"
   ]
  },
  {
   "cell_type": "markdown",
   "metadata": {},
   "source": [
    "Below are a series of questions, with the answers remaining for you to fill in by using pandas expressions that draw on the methods in Chapter 5.  You should not need to use anything more than the content of this chapter -- a subset of the methods summarized above, to do this exercise.  Hopefully you can complete it within class if you've been keeping up with the reading."
   ]
  },
  {
   "cell_type": "markdown",
   "metadata": {},
   "source": [
    "How can we get a quick statistical profile of all the numeric columns?"
   ]
  },
  {
   "cell_type": "code",
   "execution_count": 28,
   "metadata": {
    "collapsed": false
   },
   "outputs": [
    {
     "data": {
      "text/plain": [
       "count    5.000000\n",
       "mean     2.420000\n",
       "std      0.864292\n",
       "min      1.500000\n",
       "25%      1.700000\n",
       "50%      2.400000\n",
       "75%      2.900000\n",
       "max      3.600000\n",
       "Name: pop, dtype: float64"
      ]
     },
     "execution_count": 28,
     "metadata": {},
     "output_type": "execute_result"
    }
   ],
   "source": [
    "df['pop'].describe()"
   ]
  },
  {
   "cell_type": "markdown",
   "metadata": {},
   "source": [
    "Can you get a profile of a column that is not numeric, like state? Try it."
   ]
  },
  {
   "cell_type": "code",
   "execution_count": 29,
   "metadata": {
    "collapsed": false
   },
   "outputs": [
    {
     "data": {
      "text/plain": [
       "array(['Ohio', 'Nevada'], dtype=object)"
      ]
     },
     "execution_count": 29,
     "metadata": {},
     "output_type": "execute_result"
    }
   ],
   "source": [
    "df['state'].unique()"
   ]
  },
  {
   "cell_type": "markdown",
   "metadata": {},
   "source": [
    "How can we print the data types of each column?"
   ]
  },
  {
   "cell_type": "code",
   "execution_count": 30,
   "metadata": {
    "collapsed": false
   },
   "outputs": [
    {
     "data": {
      "text/plain": [
       "pop      float64\n",
       "state     object\n",
       "year       int64\n",
       "dtype: object"
      ]
     },
     "execution_count": 30,
     "metadata": {},
     "output_type": "execute_result"
    }
   ],
   "source": [
    "df.dtypes"
   ]
  },
  {
   "cell_type": "markdown",
   "metadata": {},
   "source": [
    "How can we print just the column containing state names?"
   ]
  },
  {
   "cell_type": "code",
   "execution_count": 37,
   "metadata": {
    "collapsed": false
   },
   "outputs": [
    {
     "data": {
      "text/plain": [
       "0      Ohio\n",
       "1      Ohio\n",
       "2      Ohio\n",
       "3    Nevada\n",
       "4    Nevada\n",
       "Name: state, dtype: object"
      ]
     },
     "execution_count": 37,
     "metadata": {},
     "output_type": "execute_result"
    }
   ],
   "source": [
    "df['state']"
   ]
  },
  {
   "cell_type": "markdown",
   "metadata": {},
   "source": [
    "How can we get a list of the states in the DataFrame, without duplicates?"
   ]
  },
  {
   "cell_type": "code",
   "execution_count": null,
   "metadata": {
    "collapsed": false
   },
   "outputs": [],
   "source": []
  },
  {
   "cell_type": "markdown",
   "metadata": {},
   "source": [
    "How can we get a count of how many rows we have in each state?"
   ]
  },
  {
   "cell_type": "code",
   "execution_count": null,
   "metadata": {
    "collapsed": false
   },
   "outputs": [],
   "source": []
  },
  {
   "cell_type": "markdown",
   "metadata": {},
   "source": [
    "How can we compute the mean of population across all the rows?"
   ]
  },
  {
   "cell_type": "code",
   "execution_count": null,
   "metadata": {
    "collapsed": false
   },
   "outputs": [],
   "source": []
  },
  {
   "cell_type": "markdown",
   "metadata": {},
   "source": [
    "How can we compute the maximum population across all the rows?"
   ]
  },
  {
   "cell_type": "code",
   "execution_count": null,
   "metadata": {
    "collapsed": false
   },
   "outputs": [],
   "source": []
  },
  {
   "cell_type": "markdown",
   "metadata": {},
   "source": [
    "How can we compute the 20th percentile value of population? "
   ]
  },
  {
   "cell_type": "code",
   "execution_count": null,
   "metadata": {
    "collapsed": false
   },
   "outputs": [],
   "source": []
  },
  {
   "cell_type": "markdown",
   "metadata": {},
   "source": [
    "How can we compute a Boolean array indicating whether the state is 'Ohio'?"
   ]
  },
  {
   "cell_type": "code",
   "execution_count": null,
   "metadata": {
    "collapsed": false
   },
   "outputs": [],
   "source": []
  },
  {
   "cell_type": "markdown",
   "metadata": {},
   "source": [
    "How can we select and print just the rows for Ohio?"
   ]
  },
  {
   "cell_type": "code",
   "execution_count": null,
   "metadata": {
    "collapsed": false
   },
   "outputs": [],
   "source": []
  },
  {
   "cell_type": "markdown",
   "metadata": {},
   "source": [
    "How can we create a new DataFrame containing only the Ohio records?"
   ]
  },
  {
   "cell_type": "code",
   "execution_count": null,
   "metadata": {
    "collapsed": false
   },
   "outputs": [],
   "source": []
  },
  {
   "cell_type": "markdown",
   "metadata": {},
   "source": [
    "How can we select and print just the rows in which population is more than 2?"
   ]
  },
  {
   "cell_type": "code",
   "execution_count": null,
   "metadata": {
    "collapsed": false
   },
   "outputs": [],
   "source": []
  },
  {
   "cell_type": "markdown",
   "metadata": {},
   "source": [
    "How could we compute the mean of population that is in Ohio, averaging across years?"
   ]
  },
  {
   "cell_type": "code",
   "execution_count": null,
   "metadata": {
    "collapsed": false
   },
   "outputs": [],
   "source": []
  },
  {
   "cell_type": "markdown",
   "metadata": {},
   "source": [
    "How can we print the DataFrame, sorted by State and within State, by Population?"
   ]
  },
  {
   "cell_type": "code",
   "execution_count": null,
   "metadata": {
    "collapsed": false
   },
   "outputs": [],
   "source": []
  },
  {
   "cell_type": "markdown",
   "metadata": {},
   "source": [
    "How can we print the row for Ohio, 2002, selecting on its values (not on row and column indexes)?"
   ]
  },
  {
   "cell_type": "code",
   "execution_count": null,
   "metadata": {
    "collapsed": false
   },
   "outputs": [],
   "source": []
  },
  {
   "cell_type": "markdown",
   "metadata": {},
   "source": [
    "How can we use row and column indexing to set the population of Ohio in 2002 to 3.4?"
   ]
  },
  {
   "cell_type": "code",
   "execution_count": null,
   "metadata": {
    "collapsed": false
   },
   "outputs": [],
   "source": []
  },
  {
   "cell_type": "markdown",
   "metadata": {},
   "source": [
    "How can we use row and column indexing to append a new record for Utah, initially with no population or year? "
   ]
  },
  {
   "cell_type": "code",
   "execution_count": null,
   "metadata": {
    "collapsed": false
   },
   "outputs": [],
   "source": []
  },
  {
   "cell_type": "markdown",
   "metadata": {},
   "source": [
    "How can we set the population to 2.5 and year to 2001 for the new record?"
   ]
  },
  {
   "cell_type": "code",
   "execution_count": null,
   "metadata": {
    "collapsed": false
   },
   "outputs": [],
   "source": []
  }
 ],
 "metadata": {
  "kernelspec": {
   "display_name": "Python [Root]",
   "language": "python",
   "name": "Python [Root]"
  },
  "language_info": {
   "codemirror_mode": {
    "name": "ipython",
    "version": 3
   },
   "file_extension": ".py",
   "mimetype": "text/x-python",
   "name": "python",
   "nbconvert_exporter": "python",
   "pygments_lexer": "ipython3",
   "version": "3.5.2"
  }
 },
 "nbformat": 4,
 "nbformat_minor": 0
}
